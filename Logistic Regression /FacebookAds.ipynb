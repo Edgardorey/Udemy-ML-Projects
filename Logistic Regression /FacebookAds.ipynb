{
 "cells": [
  {
   "cell_type": "markdown",
   "id": "a919c22f-b9e0-4e40-ae31-404f42521275",
   "metadata": {},
   "source": [
    "# Facebook Ads"
   ]
  },
  {
   "cell_type": "code",
   "execution_count": 2,
   "id": "4da52358-2689-479e-9106-3496d2f36c05",
   "metadata": {
    "execution": {
     "iopub.execute_input": "2024-09-12T22:44:02.231285Z",
     "iopub.status.busy": "2024-09-12T22:44:02.231179Z",
     "iopub.status.idle": "2024-09-12T22:44:03.053489Z",
     "shell.execute_reply": "2024-09-12T22:44:03.053111Z",
     "shell.execute_reply.started": "2024-09-12T22:44:02.231277Z"
    }
   },
   "outputs": [],
   "source": [
    "import pandas as pd\n",
    "import numpy as np\n",
    "import matplotlib.pyplot as plt\n",
    "from matplotlib.colors import ListedColormap\n",
    "import seaborn as sns\n",
    "from sklearn.preprocessing import StandardScaler\n",
    "from sklearn.model_selection import train_test_split\n",
    "from sklearn.linear_model import LogisticRegression\n",
    "from sklearn.metrics import classification_report, confusion_matrix\n",
    "np.set_printoptions(formatter={'float': lambda x: \"{:.2f}\".format(x)})"
   ]
  },
  {
   "cell_type": "code",
   "execution_count": 3,
   "id": "5bf9f504-c42a-40ef-8772-65eaf32ff8ae",
   "metadata": {
    "execution": {
     "iopub.execute_input": "2024-09-12T22:44:03.054069Z",
     "iopub.status.busy": "2024-09-12T22:44:03.053923Z",
     "iopub.status.idle": "2024-09-12T22:44:03.061172Z",
     "shell.execute_reply": "2024-09-12T22:44:03.060952Z",
     "shell.execute_reply.started": "2024-09-12T22:44:03.054061Z"
    }
   },
   "outputs": [],
   "source": [
    "training_set = pd.read_csv('FacebookAds.csv', encoding='ISO-8859-1')"
   ]
  },
  {
   "cell_type": "code",
   "execution_count": 4,
   "id": "4ea1bd21-1a42-44eb-92bc-22ad9e4a8c43",
   "metadata": {
    "execution": {
     "iopub.execute_input": "2024-09-12T22:44:03.061576Z",
     "iopub.status.busy": "2024-09-12T22:44:03.061506Z",
     "iopub.status.idle": "2024-09-12T22:44:03.066469Z",
     "shell.execute_reply": "2024-09-12T22:44:03.066257Z",
     "shell.execute_reply.started": "2024-09-12T22:44:03.061569Z"
    }
   },
   "outputs": [
    {
     "data": {
      "text/html": [
       "<div>\n",
       "<style scoped>\n",
       "    .dataframe tbody tr th:only-of-type {\n",
       "        vertical-align: middle;\n",
       "    }\n",
       "\n",
       "    .dataframe tbody tr th {\n",
       "        vertical-align: top;\n",
       "    }\n",
       "\n",
       "    .dataframe thead th {\n",
       "        text-align: right;\n",
       "    }\n",
       "</style>\n",
       "<table border=\"1\" class=\"dataframe\">\n",
       "  <thead>\n",
       "    <tr style=\"text-align: right;\">\n",
       "      <th></th>\n",
       "      <th>Names</th>\n",
       "      <th>emails</th>\n",
       "      <th>Country</th>\n",
       "      <th>Time Spent on Site</th>\n",
       "      <th>Salary</th>\n",
       "      <th>Clicked</th>\n",
       "    </tr>\n",
       "  </thead>\n",
       "  <tbody>\n",
       "    <tr>\n",
       "      <th>0</th>\n",
       "      <td>Martina Avila</td>\n",
       "      <td>cubilia.Curae.Phasellus@quisaccumsanconvallis.edu</td>\n",
       "      <td>Bulgaria</td>\n",
       "      <td>25.649648</td>\n",
       "      <td>55330.06006</td>\n",
       "      <td>0</td>\n",
       "    </tr>\n",
       "    <tr>\n",
       "      <th>1</th>\n",
       "      <td>Harlan Barnes</td>\n",
       "      <td>eu.dolor@diam.co.uk</td>\n",
       "      <td>Belize</td>\n",
       "      <td>32.456107</td>\n",
       "      <td>79049.07674</td>\n",
       "      <td>1</td>\n",
       "    </tr>\n",
       "    <tr>\n",
       "      <th>2</th>\n",
       "      <td>Naomi Rodriquez</td>\n",
       "      <td>vulputate.mauris.sagittis@ametconsectetueradip...</td>\n",
       "      <td>Algeria</td>\n",
       "      <td>20.945978</td>\n",
       "      <td>41098.60826</td>\n",
       "      <td>0</td>\n",
       "    </tr>\n",
       "    <tr>\n",
       "      <th>3</th>\n",
       "      <td>Jade Cunningham</td>\n",
       "      <td>malesuada@dignissim.com</td>\n",
       "      <td>Cook Islands</td>\n",
       "      <td>54.039325</td>\n",
       "      <td>37143.35536</td>\n",
       "      <td>1</td>\n",
       "    </tr>\n",
       "    <tr>\n",
       "      <th>4</th>\n",
       "      <td>Cedric Leach</td>\n",
       "      <td>felis.ullamcorper.viverra@egetmollislectus.net</td>\n",
       "      <td>Brazil</td>\n",
       "      <td>34.249729</td>\n",
       "      <td>37355.11276</td>\n",
       "      <td>0</td>\n",
       "    </tr>\n",
       "  </tbody>\n",
       "</table>\n",
       "</div>"
      ],
      "text/plain": [
       "             Names                                             emails  \\\n",
       "0    Martina Avila  cubilia.Curae.Phasellus@quisaccumsanconvallis.edu   \n",
       "1    Harlan Barnes                                eu.dolor@diam.co.uk   \n",
       "2  Naomi Rodriquez  vulputate.mauris.sagittis@ametconsectetueradip...   \n",
       "3  Jade Cunningham                            malesuada@dignissim.com   \n",
       "4     Cedric Leach     felis.ullamcorper.viverra@egetmollislectus.net   \n",
       "\n",
       "        Country  Time Spent on Site       Salary  Clicked  \n",
       "0      Bulgaria           25.649648  55330.06006        0  \n",
       "1        Belize           32.456107  79049.07674        1  \n",
       "2       Algeria           20.945978  41098.60826        0  \n",
       "3  Cook Islands           54.039325  37143.35536        1  \n",
       "4        Brazil           34.249729  37355.11276        0  "
      ]
     },
     "execution_count": 4,
     "metadata": {},
     "output_type": "execute_result"
    }
   ],
   "source": [
    "training_set.head()"
   ]
  },
  {
   "cell_type": "code",
   "execution_count": 5,
   "id": "82e643a2-c5cc-43a4-a9b3-ae48641b475f",
   "metadata": {
    "execution": {
     "iopub.execute_input": "2024-09-12T22:44:03.066843Z",
     "iopub.status.busy": "2024-09-12T22:44:03.066785Z",
     "iopub.status.idle": "2024-09-12T22:44:03.073148Z",
     "shell.execute_reply": "2024-09-12T22:44:03.072932Z",
     "shell.execute_reply.started": "2024-09-12T22:44:03.066837Z"
    }
   },
   "outputs": [
    {
     "data": {
      "text/html": [
       "<div>\n",
       "<style scoped>\n",
       "    .dataframe tbody tr th:only-of-type {\n",
       "        vertical-align: middle;\n",
       "    }\n",
       "\n",
       "    .dataframe tbody tr th {\n",
       "        vertical-align: top;\n",
       "    }\n",
       "\n",
       "    .dataframe thead th {\n",
       "        text-align: right;\n",
       "    }\n",
       "</style>\n",
       "<table border=\"1\" class=\"dataframe\">\n",
       "  <thead>\n",
       "    <tr style=\"text-align: right;\">\n",
       "      <th></th>\n",
       "      <th>Time Spent on Site</th>\n",
       "      <th>Salary</th>\n",
       "      <th>Clicked</th>\n",
       "    </tr>\n",
       "  </thead>\n",
       "  <tbody>\n",
       "    <tr>\n",
       "      <th>count</th>\n",
       "      <td>499.000000</td>\n",
       "      <td>499.000000</td>\n",
       "      <td>499.000000</td>\n",
       "    </tr>\n",
       "    <tr>\n",
       "      <th>mean</th>\n",
       "      <td>32.920178</td>\n",
       "      <td>52896.992469</td>\n",
       "      <td>0.501002</td>\n",
       "    </tr>\n",
       "    <tr>\n",
       "      <th>std</th>\n",
       "      <td>9.103455</td>\n",
       "      <td>18989.183150</td>\n",
       "      <td>0.500501</td>\n",
       "    </tr>\n",
       "    <tr>\n",
       "      <th>min</th>\n",
       "      <td>5.000000</td>\n",
       "      <td>20.000000</td>\n",
       "      <td>0.000000</td>\n",
       "    </tr>\n",
       "    <tr>\n",
       "      <th>25%</th>\n",
       "      <td>26.425044</td>\n",
       "      <td>38888.117260</td>\n",
       "      <td>0.000000</td>\n",
       "    </tr>\n",
       "    <tr>\n",
       "      <th>50%</th>\n",
       "      <td>33.196067</td>\n",
       "      <td>52840.913110</td>\n",
       "      <td>1.000000</td>\n",
       "    </tr>\n",
       "    <tr>\n",
       "      <th>75%</th>\n",
       "      <td>39.114995</td>\n",
       "      <td>65837.288190</td>\n",
       "      <td>1.000000</td>\n",
       "    </tr>\n",
       "    <tr>\n",
       "      <th>max</th>\n",
       "      <td>60.000000</td>\n",
       "      <td>100000.000000</td>\n",
       "      <td>1.000000</td>\n",
       "    </tr>\n",
       "  </tbody>\n",
       "</table>\n",
       "</div>"
      ],
      "text/plain": [
       "       Time Spent on Site         Salary     Clicked\n",
       "count          499.000000     499.000000  499.000000\n",
       "mean            32.920178   52896.992469    0.501002\n",
       "std              9.103455   18989.183150    0.500501\n",
       "min              5.000000      20.000000    0.000000\n",
       "25%             26.425044   38888.117260    0.000000\n",
       "50%             33.196067   52840.913110    1.000000\n",
       "75%             39.114995   65837.288190    1.000000\n",
       "max             60.000000  100000.000000    1.000000"
      ]
     },
     "execution_count": 5,
     "metadata": {},
     "output_type": "execute_result"
    }
   ],
   "source": [
    "training_set.describe()"
   ]
  },
  {
   "cell_type": "markdown",
   "id": "8cd1e51d-07df-4537-9bba-c5942b196505",
   "metadata": {},
   "source": [
    "## Functions "
   ]
  },
  {
   "cell_type": "code",
   "execution_count": 7,
   "id": "af35cce6-d852-4f12-869c-2e4f3b983b67",
   "metadata": {
    "execution": {
     "iopub.execute_input": "2024-09-12T22:44:03.084038Z",
     "iopub.status.busy": "2024-09-12T22:44:03.083935Z",
     "iopub.status.idle": "2024-09-12T22:44:03.086632Z",
     "shell.execute_reply": "2024-09-12T22:44:03.086414Z",
     "shell.execute_reply.started": "2024-09-12T22:44:03.084029Z"
    }
   },
   "outputs": [],
   "source": [
    "def ScatterLinearRegression(X, Y):\n",
    "    X1, X2 = np.meshgrid(np.arange(start=X[:, 0].min() - 1, stop=X[:, 0].max() + 1, step=0.01),\n",
    "                         np.arange(start=X[:, 1].min() - 1, stop=X[:, 1].max() + 1, step=0.01))\n",
    "    plt.contourf(X1, X2, classifier.predict(np.array([X1.ravel(), X2.ravel()]).T).reshape(X1.shape),\n",
    "                 alpha=0.75, cmap=ListedColormap(('magenta', 'blue')))\n",
    "    plt.xlim(X1.min(), X1.max())\n",
    "    plt.ylim(X2.min(), X2.max())\n",
    "    for i, j in enumerate(np.unique(Y)):\n",
    "        plt.scatter(X[Y == j, 0], X[Y == j, 1],\n",
    "            color=ListedColormap(('magenta', 'blue'))(i), label=j)\n",
    "    plt.title('Facebook Ad: Customer Click Prediction')\n",
    "    plt.xlabel('Time Spent on Site')\n",
    "    plt.ylabel('Estimated Salary')\n",
    "    plt.legend()\n",
    "    plt.show()"
   ]
  },
  {
   "cell_type": "markdown",
   "id": "64e82d17-0f70-4f0c-8a13-3581393351ad",
   "metadata": {},
   "source": [
    "## EDA"
   ]
  },
  {
   "cell_type": "code",
   "execution_count": 9,
   "id": "888c2c9a-ba45-41d9-919e-fa1844773a61",
   "metadata": {
    "execution": {
     "iopub.execute_input": "2024-09-12T22:44:03.093930Z",
     "iopub.status.busy": "2024-09-12T22:44:03.093869Z",
     "iopub.status.idle": "2024-09-12T22:44:03.100835Z",
     "shell.execute_reply": "2024-09-12T22:44:03.100412Z",
     "shell.execute_reply.started": "2024-09-12T22:44:03.093924Z"
    }
   },
   "outputs": [
    {
     "data": {
      "text/plain": [
       "Clicked\n",
       "1    50.1002\n",
       "0    49.8998\n",
       "Name: proportion, dtype: float64"
      ]
     },
     "execution_count": 9,
     "metadata": {},
     "output_type": "execute_result"
    }
   ],
   "source": [
    "training_set['Clicked'].value_counts(normalize=True) * 100"
   ]
  },
  {
   "cell_type": "code",
   "execution_count": 10,
   "id": "7759422d-c0bf-400e-9104-07a1c53511b1",
   "metadata": {
    "execution": {
     "iopub.execute_input": "2024-09-12T22:44:03.101371Z",
     "iopub.status.busy": "2024-09-12T22:44:03.101252Z",
     "iopub.status.idle": "2024-09-12T22:44:03.203588Z",
     "shell.execute_reply": "2024-09-12T22:44:03.203360Z",
     "shell.execute_reply.started": "2024-09-12T22:44:03.101361Z"
    }
   },
   "outputs": [
    {
     "data": {
      "text/plain": [
       "<Axes: xlabel='Time Spent on Site', ylabel='Salary'>"
      ]
     },
     "execution_count": 10,
     "metadata": {},
     "output_type": "execute_result"
    },
    {
     "data": {
      "image/png": "[encoded data removed]",
      "text/plain": [
       "<Figure size 640x480 with 1 Axes>"
      ]
     },
     "metadata": {},
     "output_type": "display_data"
    }
   ],
   "source": [
    "sns.scatterplot(x='Time Spent on Site', y='Salary', hue='Clicked', data=training_set)"
   ]
  },
  {
   "cell_type": "code",
   "execution_count": 11,
   "id": "127b2856-fb00-4848-ba06-e972d70197d6",
   "metadata": {
    "execution": {
     "iopub.execute_input": "2024-09-12T22:44:03.204041Z",
     "iopub.status.busy": "2024-09-12T22:44:03.203978Z",
     "iopub.status.idle": "2024-09-12T22:44:03.248957Z",
     "shell.execute_reply": "2024-09-12T22:44:03.248705Z",
     "shell.execute_reply.started": "2024-09-12T22:44:03.204034Z"
    }
   },
   "outputs": [
    {
     "data": {
      "text/plain": [
       "<Axes: xlabel='Clicked', ylabel='Salary'>"
      ]
     },
     "execution_count": 11,
     "metadata": {},
     "output_type": "execute_result"
    },
    {
     "data": {
      "image/png": "[encoded data removed]",
      "text/plain": [
       "<Figure size 640x480 with 1 Axes>"
      ]
     },
     "metadata": {},
     "output_type": "display_data"
    }
   ],
   "source": [
    "sns.boxplot(x='Clicked', y='Salary',data=training_set)"
   ]
  },
  {
   "cell_type": "code",
   "execution_count": 12,
   "id": "7a51bfcf-0b70-4b58-8ad1-f5887c622843",
   "metadata": {
    "execution": {
     "iopub.execute_input": "2024-09-12T22:44:03.249718Z",
     "iopub.status.busy": "2024-09-12T22:44:03.249649Z",
     "iopub.status.idle": "2024-09-12T22:44:03.295785Z",
     "shell.execute_reply": "2024-09-12T22:44:03.295554Z",
     "shell.execute_reply.started": "2024-09-12T22:44:03.249711Z"
    }
   },
   "outputs": [
    {
     "data": {
      "text/plain": [
       "<Axes: xlabel='Clicked', ylabel='Time Spent on Site'>"
      ]
     },
     "execution_count": 12,
     "metadata": {},
     "output_type": "execute_result"
    },
    {
     "data": {
      "image/png": "[encoded data removed]",
      "text/plain": [
       "<Figure size 640x480 with 1 Axes>"
      ]
     },
     "metadata": {},
     "output_type": "display_data"
    }
   ],
   "source": [
    "sns.boxplot(x='Clicked', y='Time Spent on Site',data=training_set)"
   ]
  },
  {
   "cell_type": "code",
   "execution_count": 13,
   "id": "193abbec-ac09-4ef2-9a03-d8a417b710d6",
   "metadata": {
    "execution": {
     "iopub.execute_input": "2024-09-12T22:44:03.296329Z",
     "iopub.status.busy": "2024-09-12T22:44:03.296257Z",
     "iopub.status.idle": "2024-09-12T22:44:03.363261Z",
     "shell.execute_reply": "2024-09-12T22:44:03.363041Z",
     "shell.execute_reply.started": "2024-09-12T22:44:03.296322Z"
    }
   },
   "outputs": [
    {
     "data": {
      "text/plain": [
       "<Axes: >"
      ]
     },
     "execution_count": 13,
     "metadata": {},
     "output_type": "execute_result"
    },
    {
     "data": {
      "image/png": "[encoded data removed]",
      "text/plain": [
       "<Figure size 640x480 with 1 Axes>"
      ]
     },
     "metadata": {},
     "output_type": "display_data"
    }
   ],
   "source": [
    "training_set['Salary'].hist(bins = 40)"
   ]
  },
  {
   "cell_type": "code",
   "execution_count": 14,
   "id": "2b4cb62f-0aff-441c-9e58-edb8a51842ba",
   "metadata": {
    "execution": {
     "iopub.execute_input": "2024-09-12T22:44:03.363713Z",
     "iopub.status.busy": "2024-09-12T22:44:03.363650Z",
     "iopub.status.idle": "2024-09-12T22:44:03.416870Z",
     "shell.execute_reply": "2024-09-12T22:44:03.416651Z",
     "shell.execute_reply.started": "2024-09-12T22:44:03.363706Z"
    }
   },
   "outputs": [
    {
     "data": {
      "text/plain": [
       "<Axes: >"
      ]
     },
     "execution_count": 14,
     "metadata": {},
     "output_type": "execute_result"
    },
    {
     "data": {
      "image/png": "[encoded data removed]",
      "text/plain": [
       "<Figure size 640x480 with 1 Axes>"
      ]
     },
     "metadata": {},
     "output_type": "display_data"
    }
   ],
   "source": [
    "training_set['Time Spent on Site'].hist(bins = 20)"
   ]
  },
  {
   "cell_type": "markdown",
   "id": "33743dfb-6c1b-4596-8e59-62ca54832800",
   "metadata": {},
   "source": [
    "## Clean Data"
   ]
  },
  {
   "cell_type": "code",
   "execution_count": 16,
   "id": "0e5e5d9e-a07d-4704-afc6-d36501d273b1",
   "metadata": {
    "execution": {
     "iopub.execute_input": "2024-09-12T22:44:03.423822Z",
     "iopub.status.busy": "2024-09-12T22:44:03.423760Z",
     "iopub.status.idle": "2024-09-12T22:44:03.426033Z",
     "shell.execute_reply": "2024-09-12T22:44:03.425837Z",
     "shell.execute_reply.started": "2024-09-12T22:44:03.423816Z"
    }
   },
   "outputs": [],
   "source": [
    "training_set.drop(['Names', 'emails', 'Country'],axis=1,inplace=True)"
   ]
  },
  {
   "cell_type": "code",
   "execution_count": 17,
   "id": "76bd4c76-c1a0-4b4a-b620-e04f19928fe9",
   "metadata": {
    "execution": {
     "iopub.execute_input": "2024-09-12T22:44:03.426349Z",
     "iopub.status.busy": "2024-09-12T22:44:03.426286Z",
     "iopub.status.idle": "2024-09-12T22:44:03.432136Z",
     "shell.execute_reply": "2024-09-12T22:44:03.431488Z",
     "shell.execute_reply.started": "2024-09-12T22:44:03.426343Z"
    }
   },
   "outputs": [
    {
     "data": {
      "text/html": [
       "<div>\n",
       "<style scoped>\n",
       "    .dataframe tbody tr th:only-of-type {\n",
       "        vertical-align: middle;\n",
       "    }\n",
       "\n",
       "    .dataframe tbody tr th {\n",
       "        vertical-align: top;\n",
       "    }\n",
       "\n",
       "    .dataframe thead th {\n",
       "        text-align: right;\n",
       "    }\n",
       "</style>\n",
       "<table border=\"1\" class=\"dataframe\">\n",
       "  <thead>\n",
       "    <tr style=\"text-align: right;\">\n",
       "      <th></th>\n",
       "      <th>Time Spent on Site</th>\n",
       "      <th>Salary</th>\n",
       "      <th>Clicked</th>\n",
       "    </tr>\n",
       "  </thead>\n",
       "  <tbody>\n",
       "    <tr>\n",
       "      <th>0</th>\n",
       "      <td>25.649648</td>\n",
       "      <td>55330.06006</td>\n",
       "      <td>0</td>\n",
       "    </tr>\n",
       "    <tr>\n",
       "      <th>1</th>\n",
       "      <td>32.456107</td>\n",
       "      <td>79049.07674</td>\n",
       "      <td>1</td>\n",
       "    </tr>\n",
       "    <tr>\n",
       "      <th>2</th>\n",
       "      <td>20.945978</td>\n",
       "      <td>41098.60826</td>\n",
       "      <td>0</td>\n",
       "    </tr>\n",
       "    <tr>\n",
       "      <th>3</th>\n",
       "      <td>54.039325</td>\n",
       "      <td>37143.35536</td>\n",
       "      <td>1</td>\n",
       "    </tr>\n",
       "    <tr>\n",
       "      <th>4</th>\n",
       "      <td>34.249729</td>\n",
       "      <td>37355.11276</td>\n",
       "      <td>0</td>\n",
       "    </tr>\n",
       "    <tr>\n",
       "      <th>...</th>\n",
       "      <td>...</td>\n",
       "      <td>...</td>\n",
       "      <td>...</td>\n",
       "    </tr>\n",
       "    <tr>\n",
       "      <th>494</th>\n",
       "      <td>19.222746</td>\n",
       "      <td>44969.13495</td>\n",
       "      <td>0</td>\n",
       "    </tr>\n",
       "    <tr>\n",
       "      <th>495</th>\n",
       "      <td>22.665662</td>\n",
       "      <td>41686.20425</td>\n",
       "      <td>0</td>\n",
       "    </tr>\n",
       "    <tr>\n",
       "      <th>496</th>\n",
       "      <td>35.320239</td>\n",
       "      <td>23989.80864</td>\n",
       "      <td>0</td>\n",
       "    </tr>\n",
       "    <tr>\n",
       "      <th>497</th>\n",
       "      <td>26.539170</td>\n",
       "      <td>31708.57054</td>\n",
       "      <td>0</td>\n",
       "    </tr>\n",
       "    <tr>\n",
       "      <th>498</th>\n",
       "      <td>32.386148</td>\n",
       "      <td>74331.35442</td>\n",
       "      <td>1</td>\n",
       "    </tr>\n",
       "  </tbody>\n",
       "</table>\n",
       "<p>499 rows × 3 columns</p>\n",
       "</div>"
      ],
      "text/plain": [
       "     Time Spent on Site       Salary  Clicked\n",
       "0             25.649648  55330.06006        0\n",
       "1             32.456107  79049.07674        1\n",
       "2             20.945978  41098.60826        0\n",
       "3             54.039325  37143.35536        1\n",
       "4             34.249729  37355.11276        0\n",
       "..                  ...          ...      ...\n",
       "494           19.222746  44969.13495        0\n",
       "495           22.665662  41686.20425        0\n",
       "496           35.320239  23989.80864        0\n",
       "497           26.539170  31708.57054        0\n",
       "498           32.386148  74331.35442        1\n",
       "\n",
       "[499 rows x 3 columns]"
      ]
     },
     "execution_count": 17,
     "metadata": {},
     "output_type": "execute_result"
    }
   ],
   "source": [
    "training_set"
   ]
  },
  {
   "cell_type": "markdown",
   "id": "465a4d1c-f75a-4670-8275-772c99d5f740",
   "metadata": {},
   "source": [
    "## Model Training"
   ]
  },
  {
   "cell_type": "code",
   "execution_count": 19,
   "id": "c4e7c770-d4ef-45ad-bb77-2d264cc9b1b6",
   "metadata": {
    "execution": {
     "iopub.execute_input": "2024-09-12T22:44:03.441224Z",
     "iopub.status.busy": "2024-09-12T22:44:03.441154Z",
     "iopub.status.idle": "2024-09-12T22:44:03.443701Z",
     "shell.execute_reply": "2024-09-12T22:44:03.443346Z",
     "shell.execute_reply.started": "2024-09-12T22:44:03.441217Z"
    }
   },
   "outputs": [],
   "source": [
    "X = training_set.drop('Clicked',axis=1).values\n",
    "y = training_set['Clicked'].values"
   ]
  },
  {
   "cell_type": "code",
   "execution_count": 20,
   "id": "9ba2fece-8a1d-418e-8717-ca92b485a4dd",
   "metadata": {
    "execution": {
     "iopub.execute_input": "2024-09-12T22:44:03.444755Z",
     "iopub.status.busy": "2024-09-12T22:44:03.444573Z",
     "iopub.status.idle": "2024-09-12T22:44:03.450674Z",
     "shell.execute_reply": "2024-09-12T22:44:03.450224Z",
     "shell.execute_reply.started": "2024-09-12T22:44:03.444736Z"
    },
    "scrolled": true
   },
   "outputs": [
    {
     "data": {
      "text/plain": [
       "array([[25.65, 55330.06],\n",
       "       [32.46, 79049.08],\n",
       "       [20.95, 41098.61],\n",
       "       [54.04, 37143.36],\n",
       "       [34.25, 37355.11],\n",
       "       [52.01, 80642.65],\n",
       "       [42.88, 61908.40],\n",
       "       [25.68, 29851.41],\n",
       "       [40.70, 34281.12],\n",
       "       [29.69, 41098.88],\n",
       "       [33.27, 54127.02],\n",
       "       [34.53, 30221.94],\n",
       "       [25.31, 43764.00],\n",
       "       [46.54, 48663.49],\n",
       "       [37.72, 64695.98],\n",
       "       [25.06, 17759.93],\n",
       "       [41.10, 49463.38],\n",
       "       [24.76, 38484.42],\n",
       "       [48.87, 34774.44],\n",
       "       [27.83, 51644.49],\n",
       "       [17.10, 61661.77],\n",
       "       [25.60, 53630.76],\n",
       "       [42.25, 32215.10],\n",
       "       [37.14, 51733.66],\n",
       "       [32.44, 51677.70],\n",
       "       [19.94, 34263.79],\n",
       "       [39.82, 70503.31],\n",
       "       [30.73, 67022.27],\n",
       "       [24.04, 36474.71],\n",
       "       [39.06, 29178.36],\n",
       "       [31.25, 76064.38],\n",
       "       [36.06, 65202.91],\n",
       "       [19.91, 32894.52],\n",
       "       [22.46, 47770.07],\n",
       "       [36.77, 53464.43],\n",
       "       [35.96, 23683.31],\n",
       "       [41.99, 54726.99],\n",
       "       [34.54, 78156.46],\n",
       "       [24.83, 43126.92],\n",
       "       [38.59, 54524.27],\n",
       "       [30.52, 12066.02],\n",
       "       [28.94, 29899.47],\n",
       "       [40.98, 45591.45],\n",
       "       [27.60, 32242.32],\n",
       "       [19.09, 39279.89],\n",
       "       [18.88, 52519.00],\n",
       "       [20.71, 33993.05],\n",
       "       [27.40, 48026.02],\n",
       "       [39.05, 73516.58],\n",
       "       [36.30, 29354.82],\n",
       "       [38.81, 61298.92],\n",
       "       [26.24, 61347.17],\n",
       "       [20.78, 25642.64],\n",
       "       [26.01, 36948.35],\n",
       "       [60.00, 76499.12],\n",
       "       [27.43, 40814.48],\n",
       "       [26.39, 37080.28],\n",
       "       [47.07, 80709.84],\n",
       "       [41.81, 79523.57],\n",
       "       [36.81, 81282.41],\n",
       "       [29.84, 100000.00],\n",
       "       [41.96, 63479.26],\n",
       "       [42.91, 55896.75],\n",
       "       [31.52, 35277.26],\n",
       "       [44.45, 78039.79],\n",
       "       [38.65, 57793.43],\n",
       "       [29.86, 49464.23],\n",
       "       [31.87, 56862.72],\n",
       "       [35.12, 71480.48],\n",
       "       [43.62, 43938.78],\n",
       "       [27.80, 38651.13],\n",
       "       [41.46, 75923.25],\n",
       "       [26.41, 55388.71],\n",
       "       [24.71, 58164.60],\n",
       "       [38.24, 52840.91],\n",
       "       [53.07, 65344.84],\n",
       "       [38.17, 28728.32],\n",
       "       [26.41, 28349.21],\n",
       "       [19.85, 19295.77],\n",
       "       [46.47, 68987.71],\n",
       "       [27.87, 23552.77],\n",
       "       [37.63, 51037.35],\n",
       "       [15.62, 31530.62],\n",
       "       [42.77, 70651.29],\n",
       "       [29.77, 72535.30],\n",
       "       [30.58, 65742.85],\n",
       "       [31.72, 73046.94],\n",
       "       [41.36, 73157.85],\n",
       "       [27.29, 52587.05],\n",
       "       [25.80, 30541.14],\n",
       "       [39.63, 77245.23],\n",
       "       [20.17, 34498.49],\n",
       "       [44.46, 63084.16],\n",
       "       [11.86, 45622.08],\n",
       "       [48.48, 66439.65],\n",
       "       [19.00, 50882.24],\n",
       "       [24.65, 44289.03],\n",
       "       [28.86, 55595.29],\n",
       "       [12.87, 27148.28],\n",
       "       [33.91, 77611.43],\n",
       "       [36.18, 45151.86],\n",
       "       [23.36, 60421.50],\n",
       "       [30.11, 54942.85],\n",
       "       [32.27, 52020.65],\n",
       "       [38.48, 44371.60],\n",
       "       [32.66, 75011.16],\n",
       "       [25.91, 20.00],\n",
       "       [45.87, 96204.80],\n",
       "       [41.50, 65690.97],\n",
       "       [33.52, 56801.93],\n",
       "       [41.69, 90106.14],\n",
       "       [34.06, 55982.98],\n",
       "       [39.90, 66293.67],\n",
       "       [36.52, 88045.22],\n",
       "       [33.62, 52347.27],\n",
       "       [36.69, 84819.67],\n",
       "       [47.00, 67250.43],\n",
       "       [30.78, 26311.63],\n",
       "       [40.49, 63514.82],\n",
       "       [33.30, 66605.39],\n",
       "       [24.35, 39941.88],\n",
       "       [29.23, 65677.09],\n",
       "       [23.40, 65057.10],\n",
       "       [33.65, 55883.58],\n",
       "       [26.40, 42014.28],\n",
       "       [39.45, 81958.85],\n",
       "       [25.32, 82452.21],\n",
       "       [31.94, 18554.52],\n",
       "       [31.27, 41941.59],\n",
       "       [23.30, 52564.76],\n",
       "       [38.22, 41201.79],\n",
       "       [37.90, 60271.28],\n",
       "       [35.84, 53724.76],\n",
       "       [17.65, 44482.23],\n",
       "       [19.25, 45527.82],\n",
       "       [23.43, 26215.84],\n",
       "       [34.51, 92847.69],\n",
       "       [24.42, 49660.20],\n",
       "       [47.53, 93024.49],\n",
       "       [40.22, 67491.60],\n",
       "       [24.88, 45924.57],\n",
       "       [34.72, 80745.01],\n",
       "       [27.95, 56403.17],\n",
       "       [39.35, 73499.55],\n",
       "       [36.21, 59017.36],\n",
       "       [29.47, 69107.48],\n",
       "       [10.51, 39381.93],\n",
       "       [35.55, 71109.27],\n",
       "       [27.18, 54994.55],\n",
       "       [23.50, 43345.10],\n",
       "       [25.14, 55160.32],\n",
       "       [40.46, 53966.28],\n",
       "       [38.86, 55358.82],\n",
       "       [29.58, 52826.16],\n",
       "       [30.56, 92865.06],\n",
       "       [30.73, 47012.73],\n",
       "       [28.92, 40110.81],\n",
       "       [35.36, 69251.83],\n",
       "       [37.11, 76221.54],\n",
       "       [32.61, 51835.65],\n",
       "       [48.86, 73141.85],\n",
       "       [32.95, 58244.19],\n",
       "       [40.52, 68368.65],\n",
       "       [50.27, 75305.25],\n",
       "       [25.58, 5205.17],\n",
       "       [28.55, 36621.60],\n",
       "       [35.84, 34039.32],\n",
       "       [30.97, 73565.32],\n",
       "       [42.14, 60260.71],\n",
       "       [32.72, 38368.19],\n",
       "       [44.43, 86895.48],\n",
       "       [30.64, 64316.05],\n",
       "       [42.15, 24325.74],\n",
       "       [56.43, 60976.07],\n",
       "       [41.77, 47562.91],\n",
       "       [20.29, 45012.50],\n",
       "       [35.58, 83064.96],\n",
       "       [25.25, 30920.80],\n",
       "       [29.06, 54969.64],\n",
       "       [29.85, 56665.66],\n",
       "       [18.68, 92596.75],\n",
       "       [46.53, 86554.96],\n",
       "       [29.82, 41808.08],\n",
       "       [23.65, 29808.11],\n",
       "       [33.52, 50888.64],\n",
       "       [33.65, 32293.75],\n",
       "       [29.30, 67190.91],\n",
       "       [47.00, 89227.58],\n",
       "       [31.47, 24383.50],\n",
       "       [38.32, 53360.39],\n",
       "       [51.34, 45686.29],\n",
       "       [10.86, 15809.81],\n",
       "       [24.53, 52068.02],\n",
       "       [29.46, 37089.15],\n",
       "       [36.60, 72243.39],\n",
       "       [33.44, 41773.86],\n",
       "       [35.50, 65822.95],\n",
       "       [35.83, 38704.73],\n",
       "       [40.52, 77375.01],\n",
       "       [22.40, 48432.03],\n",
       "       [36.05, 61233.46],\n",
       "       [20.58, 26876.97],\n",
       "       [31.58, 33465.46],\n",
       "       [27.67, 47816.32],\n",
       "       [34.95, 39815.21],\n",
       "       [50.99, 63695.05],\n",
       "       [28.71, 62057.62],\n",
       "       [21.06, 58088.90],\n",
       "       [30.27, 84100.27],\n",
       "       [32.33, 38914.63],\n",
       "       [46.63, 63853.43],\n",
       "       [22.44, 52851.50],\n",
       "       [17.48, 41463.95],\n",
       "       [34.91, 39990.79],\n",
       "       [32.20, 31284.73],\n",
       "       [30.57, 67962.91],\n",
       "       [42.15, 48446.83],\n",
       "       [33.73, 64389.14],\n",
       "       [34.84, 37145.63],\n",
       "       [23.40, 49708.91],\n",
       "       [45.88, 51288.01],\n",
       "       [34.19, 15638.65],\n",
       "       [41.70, 40214.08],\n",
       "       [28.38, 90144.10],\n",
       "       [38.93, 67626.03],\n",
       "       [29.18, 37684.86],\n",
       "       [35.52, 57641.39],\n",
       "       [44.12, 55553.57],\n",
       "       [21.22, 35116.30],\n",
       "       [33.49, 81823.34],\n",
       "       [25.41, 18541.73],\n",
       "       [26.04, 74911.04],\n",
       "       [37.27, 51874.98],\n",
       "       [26.79, 51691.33],\n",
       "       [44.24, 90459.34],\n",
       "       [33.82, 46063.71],\n",
       "       [44.19, 65245.87],\n",
       "       [36.45, 49102.83],\n",
       "       [19.73, 42876.17],\n",
       "       [31.42, 63027.66],\n",
       "       [50.23, 31707.32],\n",
       "       [20.09, 37750.45],\n",
       "       [32.00, 42419.66],\n",
       "       [19.05, 47550.96],\n",
       "       [22.96, 35048.06],\n",
       "       [40.50, 52623.65],\n",
       "       [19.92, 30201.25],\n",
       "       [53.15, 43293.51],\n",
       "       [16.28, 38154.42],\n",
       "       [33.59, 58833.68],\n",
       "       [35.32, 82283.61],\n",
       "       [27.66, 19862.41],\n",
       "       [30.98, 13176.25],\n",
       "       [41.63, 63123.68],\n",
       "       [27.58, 58093.97],\n",
       "       [42.92, 58281.11],\n",
       "       [29.49, 37611.84],\n",
       "       [41.70, 80543.11],\n",
       "       [33.53, 61630.43],\n",
       "       [28.08, 53879.86],\n",
       "       [44.64, 31282.86],\n",
       "       [39.25, 42504.88],\n",
       "       [53.05, 73043.34],\n",
       "       [40.26, 60281.71],\n",
       "       [24.43, 20934.75],\n",
       "       [15.65, 48755.89],\n",
       "       [29.31, 38241.22],\n",
       "       [44.68, 57218.00],\n",
       "       [36.15, 70163.23],\n",
       "       [44.14, 59156.45],\n",
       "       [31.03, 35341.27],\n",
       "       [47.94, 60416.70],\n",
       "       [44.25, 79679.14],\n",
       "       [29.46, 50882.94],\n",
       "       [30.69, 81129.61],\n",
       "       [41.10, 82404.98],\n",
       "       [18.29, 33736.55],\n",
       "       [42.49, 68054.35],\n",
       "       [18.18, 76635.49],\n",
       "       [50.88, 53562.23],\n",
       "       [20.49, 45728.95],\n",
       "       [28.88, 37592.78],\n",
       "       [42.07, 83277.55],\n",
       "       [26.44, 42016.00],\n",
       "       [28.25, 57275.73],\n",
       "       [50.04, 69461.33],\n",
       "       [22.63, 25031.15],\n",
       "       [46.29, 51531.08],\n",
       "       [33.05, 74329.32],\n",
       "       [48.79, 55633.04],\n",
       "       [30.39, 33487.85],\n",
       "       [27.71, 48659.57],\n",
       "       [40.31, 31624.06],\n",
       "       [23.05, 37980.93],\n",
       "       [45.49, 67660.88],\n",
       "       [38.42, 60894.22],\n",
       "       [36.82, 75099.42],\n",
       "       [31.36, 54655.58],\n",
       "       [11.93, 54093.64],\n",
       "       [36.50, 48317.13],\n",
       "       [19.29, 50991.43],\n",
       "       [32.24, 30772.33],\n",
       "       [53.66, 53210.36],\n",
       "       [15.56, 55052.91],\n",
       "       [33.89, 58187.78],\n",
       "       [44.01, 62854.42],\n",
       "       [13.22, 41686.82],\n",
       "       [22.46, 7050.78],\n",
       "       [43.88, 77371.65],\n",
       "       [29.99, 77059.75],\n",
       "       [27.02, 49795.26],\n",
       "       [30.85, 30562.37],\n",
       "       [30.97, 29724.82],\n",
       "       [38.62, 48343.44],\n",
       "       [42.01, 62045.42],\n",
       "       [24.63, 27792.46],\n",
       "       [13.98, 45622.74],\n",
       "       [46.40, 56088.84],\n",
       "       [28.76, 69130.79],\n",
       "       [18.93, 64980.51],\n",
       "       [35.36, 25150.49],\n",
       "       [54.00, 44373.40],\n",
       "       [43.17, 41033.05],\n",
       "       [34.00, 38273.28],\n",
       "       [39.17, 77900.18],\n",
       "       [36.61, 65044.06],\n",
       "       [42.90, 78401.67],\n",
       "       [37.57, 40383.56],\n",
       "       [7.52, 22839.25],\n",
       "       [32.46, 31531.12],\n",
       "       [43.75, 50778.00],\n",
       "       [44.55, 58598.27],\n",
       "       [29.19, 52677.41],\n",
       "       [34.90, 55864.96],\n",
       "       [37.21, 55837.22],\n",
       "       [34.62, 61696.33],\n",
       "       [32.02, 50527.99],\n",
       "       [37.28, 50158.75],\n",
       "       [48.35, 55006.64],\n",
       "       [40.29, 20259.52],\n",
       "       [31.01, 51162.99],\n",
       "       [39.85, 94950.42],\n",
       "       [33.20, 89051.99],\n",
       "       [45.66, 77879.47],\n",
       "       [40.63, 59477.38],\n",
       "       [46.73, 69916.67],\n",
       "       [29.05, 39105.72],\n",
       "       [37.64, 46736.46],\n",
       "       [33.52, 50702.52],\n",
       "       [24.66, 36536.83],\n",
       "       [28.37, 25933.27],\n",
       "       [30.39, 59519.43],\n",
       "       [37.53, 53040.61],\n",
       "       [24.12, 47698.83],\n",
       "       [29.76, 30445.16],\n",
       "       [33.74, 70033.41],\n",
       "       [39.61, 61820.97],\n",
       "       [37.71, 55642.80],\n",
       "       [31.44, 75520.26],\n",
       "       [40.76, 60965.43],\n",
       "       [45.91, 73373.88],\n",
       "       [11.45, 35043.63],\n",
       "       [36.87, 87907.99],\n",
       "       [40.13, 75594.06],\n",
       "       [20.33, 38057.41],\n",
       "       [21.30, 67168.18],\n",
       "       [17.10, 59228.86],\n",
       "       [44.66, 75426.28],\n",
       "       [25.36, 56313.85],\n",
       "       [23.18, 42332.55],\n",
       "       [26.91, 61418.45],\n",
       "       [34.25, 40972.91],\n",
       "       [27.58, 65851.63],\n",
       "       [33.84, 19031.97],\n",
       "       [32.98, 80711.85],\n",
       "       [31.58, 29424.29],\n",
       "       [33.14, 82693.81],\n",
       "       [18.77, 39413.96],\n",
       "       [38.80, 73002.17],\n",
       "       [35.83, 55333.73],\n",
       "       [42.64, 69262.63],\n",
       "       [34.10, 74668.66],\n",
       "       [26.34, 37225.22],\n",
       "       [43.14, 63831.94],\n",
       "       [29.49, 25982.68],\n",
       "       [20.93, 48451.79],\n",
       "       [26.62, 76505.56],\n",
       "       [51.51, 72735.56],\n",
       "       [39.36, 80909.18],\n",
       "       [27.67, 3993.15],\n",
       "       [30.19, 43821.76],\n",
       "       [41.61, 80805.69],\n",
       "       [16.30, 32920.52],\n",
       "       [26.30, 65398.52],\n",
       "       [36.50, 94315.46],\n",
       "       [43.32, 59946.71],\n",
       "       [34.96, 60074.24],\n",
       "       [24.09, 18907.67],\n",
       "       [35.10, 69637.14],\n",
       "       [39.46, 33843.66],\n",
       "       [40.15, 74444.75],\n",
       "       [28.15, 62880.74],\n",
       "       [30.15, 20207.60],\n",
       "       [27.73, 47093.54],\n",
       "       [23.97, 25710.86],\n",
       "       [30.92, 19123.47],\n",
       "       [25.55, 21076.60],\n",
       "       [38.25, 95100.12],\n",
       "       [37.30, 62052.98],\n",
       "       [25.71, 55564.88],\n",
       "       [38.62, 58365.21],\n",
       "       [20.99, 36171.35],\n",
       "       [25.21, 77888.10],\n",
       "       [29.72, 77240.46],\n",
       "       [35.93, 31644.00],\n",
       "       [49.56, 66154.73],\n",
       "       [35.77, 85662.41],\n",
       "       [27.91, 39615.39],\n",
       "       [44.89, 54682.88],\n",
       "       [36.06, 50105.88],\n",
       "       [34.49, 22604.41],\n",
       "       [37.53, 62850.32],\n",
       "       [23.09, 40648.69],\n",
       "       [30.17, 18776.96],\n",
       "       [43.19, 90494.11],\n",
       "       [46.45, 70486.66],\n",
       "       [35.31, 54846.03],\n",
       "       [30.22, 33466.30],\n",
       "       [44.55, 65083.77],\n",
       "       [25.25, 44756.53],\n",
       "       [31.18, 60772.42],\n",
       "       [42.25, 66564.04],\n",
       "       [30.29, 65132.00],\n",
       "       [29.75, 53557.35],\n",
       "       [35.65, 76490.74],\n",
       "       [13.19, 24231.09],\n",
       "       [25.39, 47645.93],\n",
       "       [38.68, 43236.50],\n",
       "       [38.61, 67135.17],\n",
       "       [34.75, 49052.90],\n",
       "       [29.40, 50778.34],\n",
       "       [29.45, 14007.80],\n",
       "       [33.23, 33779.11],\n",
       "       [7.76, 34221.12],\n",
       "       [21.37, 38861.60],\n",
       "       [24.71, 69670.80],\n",
       "       [32.95, 43135.14],\n",
       "       [28.92, 27512.09],\n",
       "       [31.81, 35699.69],\n",
       "       [27.34, 41556.96],\n",
       "       [37.00, 44968.82],\n",
       "       [33.80, 45502.98],\n",
       "       [35.31, 12318.96],\n",
       "       [29.16, 39394.28],\n",
       "       [37.59, 23774.12],\n",
       "       [37.09, 91568.97],\n",
       "       [15.05, 97646.22],\n",
       "       [25.37, 37192.02],\n",
       "       [36.32, 76548.15],\n",
       "       [36.92, 61668.56],\n",
       "       [27.46, 40106.61],\n",
       "       [37.75, 73687.48],\n",
       "       [22.90, 34498.66],\n",
       "       [37.17, 63100.67],\n",
       "       [49.97, 71843.97],\n",
       "       [44.50, 52140.28],\n",
       "       [38.01, 63004.54],\n",
       "       [26.54, 50967.99],\n",
       "       [41.70, 54520.99],\n",
       "       [30.43, 40446.85],\n",
       "       [28.27, 82395.64],\n",
       "       [40.74, 35323.20],\n",
       "       [23.56, 43072.57],\n",
       "       [37.84, 57841.36],\n",
       "       [44.89, 71840.40],\n",
       "       [23.28, 40765.04],\n",
       "       [37.01, 73057.24],\n",
       "       [25.09, 61653.38],\n",
       "       [20.71, 7147.72],\n",
       "       [42.19, 48020.57],\n",
       "       [42.89, 58162.28],\n",
       "       [22.44, 35917.85],\n",
       "       [37.67, 62034.49],\n",
       "       [20.42, 40114.16],\n",
       "       [36.90, 32583.02],\n",
       "       [33.35, 52020.92],\n",
       "       [41.54, 55792.70],\n",
       "       [43.28, 54123.65],\n",
       "       [24.33, 59873.52],\n",
       "       [23.87, 23439.87],\n",
       "       [34.83, 50151.33],\n",
       "       [37.17, 63750.42],\n",
       "       [5.00, 47329.57],\n",
       "       [24.62, 34721.75],\n",
       "       [19.22, 44969.13],\n",
       "       [22.67, 41686.20],\n",
       "       [35.32, 23989.81],\n",
       "       [26.54, 31708.57],\n",
       "       [32.39, 74331.35]])"
      ]
     },
     "execution_count": 20,
     "metadata": {},
     "output_type": "execute_result"
    }
   ],
   "source": [
    "X"
   ]
  },
  {
   "cell_type": "code",
   "execution_count": 21,
   "id": "1d065666-97af-437a-a70f-6e1e5df30d69",
   "metadata": {
    "execution": {
     "iopub.execute_input": "2024-09-12T22:44:03.451775Z",
     "iopub.status.busy": "2024-09-12T22:44:03.451521Z",
     "iopub.status.idle": "2024-09-12T22:44:03.455438Z",
     "shell.execute_reply": "2024-09-12T22:44:03.455048Z",
     "shell.execute_reply.started": "2024-09-12T22:44:03.451763Z"
    }
   },
   "outputs": [],
   "source": [
    "sc = StandardScaler()\n",
    "X = sc.fit_transform(X)"
   ]
  },
  {
   "cell_type": "code",
   "execution_count": 22,
   "id": "ce7f4568-bb38-4a31-b979-a7bd6a3212a8",
   "metadata": {
    "execution": {
     "iopub.execute_input": "2024-09-12T22:44:03.456275Z",
     "iopub.status.busy": "2024-09-12T22:44:03.456207Z",
     "iopub.status.idle": "2024-09-12T22:44:03.461493Z",
     "shell.execute_reply": "2024-09-12T22:44:03.461238Z",
     "shell.execute_reply.started": "2024-09-12T22:44:03.456268Z"
    },
    "scrolled": true
   },
   "outputs": [
    {
     "data": {
      "text/plain": [
       "array([[-0.80, 0.13],\n",
       "       [-0.05, 1.38],\n",
       "       [-1.32, -0.62],\n",
       "       [2.32, -0.83],\n",
       "       [0.15, -0.82],\n",
       "       [2.10, 1.46],\n",
       "       [1.10, 0.48],\n",
       "       [-0.80, -1.21],\n",
       "       [0.86, -0.98],\n",
       "       [-0.36, -0.62],\n",
       "       [0.04, 0.06],\n",
       "       [0.18, -1.20],\n",
       "       [-0.84, -0.48],\n",
       "       [1.50, -0.22],\n",
       "       [0.53, 0.62],\n",
       "       [-0.86, -1.85],\n",
       "       [0.90, -0.18],\n",
       "       [-0.90, -0.76],\n",
       "       [1.75, -0.96],\n",
       "       [-0.56, -0.07],\n",
       "       [-1.74, 0.46],\n",
       "       [-0.81, 0.04],\n",
       "       [1.03, -1.09],\n",
       "       [0.46, -0.06],\n",
       "       [-0.05, -0.06],\n",
       "       [-1.43, -0.98],\n",
       "       [0.76, 0.93],\n",
       "       [-0.24, 0.74],\n",
       "       [-0.98, -0.87],\n",
       "       [0.67, -1.25],\n",
       "       [-0.18, 1.22],\n",
       "       [0.34, 0.65],\n",
       "       [-1.43, -1.05],\n",
       "       [-1.15, -0.27],\n",
       "       [0.42, 0.03],\n",
       "       [0.33, -1.54],\n",
       "       [1.00, 0.10],\n",
       "       [0.18, 1.33],\n",
       "       [-0.89, -0.52],\n",
       "       [0.62, 0.09],\n",
       "       [-0.26, -2.15],\n",
       "       [-0.44, -1.21],\n",
       "       [0.89, -0.39],\n",
       "       [-0.58, -1.09],\n",
       "       [-1.52, -0.72],\n",
       "       [-1.54, -0.02],\n",
       "       [-1.34, -1.00],\n",
       "       [-0.61, -0.26],\n",
       "       [0.67, 1.09],\n",
       "       [0.37, -1.24],\n",
       "       [0.65, 0.44],\n",
       "       [-0.73, 0.45],\n",
       "       [-1.34, -1.44],\n",
       "       [-0.76, -0.84],\n",
       "       [2.98, 1.24],\n",
       "       [-0.60, -0.64],\n",
       "       [-0.72, -0.83],\n",
       "       [1.56, 1.47],\n",
       "       [0.98, 1.40],\n",
       "       [0.43, 1.50],\n",
       "       [-0.34, 2.48],\n",
       "       [0.99, 0.56],\n",
       "       [1.10, 0.16],\n",
       "       [-0.15, -0.93],\n",
       "       [1.27, 1.33],\n",
       "       [0.63, 0.26],\n",
       "       [-0.34, -0.18],\n",
       "       [-0.12, 0.21],\n",
       "       [0.24, 0.98],\n",
       "       [1.18, -0.47],\n",
       "       [-0.56, -0.75],\n",
       "       [0.94, 1.21],\n",
       "       [-0.72, 0.13],\n",
       "       [-0.90, 0.28],\n",
       "       [0.59, -0.00],\n",
       "       [2.22, 0.66],\n",
       "       [0.58, -1.27],\n",
       "       [-0.72, -1.29],\n",
       "       [-1.44, -1.77],\n",
       "       [1.49, 0.85],\n",
       "       [-0.56, -1.55],\n",
       "       [0.52, -0.10],\n",
       "       [-1.90, -1.13],\n",
       "       [1.08, 0.94],\n",
       "       [-0.35, 1.04],\n",
       "       [-0.26, 0.68],\n",
       "       [-0.13, 1.06],\n",
       "       [0.93, 1.07],\n",
       "       [-0.62, -0.02],\n",
       "       [-0.78, -1.18],\n",
       "       [0.74, 1.28],\n",
       "       [-1.40, -0.97],\n",
       "       [1.27, 0.54],\n",
       "       [-2.32, -0.38],\n",
       "       [1.71, 0.71],\n",
       "       [-1.53, -0.11],\n",
       "       [-0.91, -0.45],\n",
       "       [-0.45, 0.14],\n",
       "       [-2.21, -1.36],\n",
       "       [0.11, 1.30],\n",
       "       [0.36, -0.41],\n",
       "       [-1.05, 0.40],\n",
       "       [-0.31, 0.11],\n",
       "       [-0.07, -0.05],\n",
       "       [0.61, -0.45],\n",
       "       [-0.03, 1.17],\n",
       "       [-0.77, -2.79],\n",
       "       [1.42, 2.28],\n",
       "       [0.94, 0.67],\n",
       "       [0.07, 0.21],\n",
       "       [0.96, 1.96],\n",
       "       [0.13, 0.16],\n",
       "       [0.77, 0.71],\n",
       "       [0.40, 1.85],\n",
       "       [0.08, -0.03],\n",
       "       [0.41, 1.68],\n",
       "       [1.55, 0.76],\n",
       "       [-0.24, -1.40],\n",
       "       [0.83, 0.56],\n",
       "       [0.04, 0.72],\n",
       "       [-0.94, -0.68],\n",
       "       [-0.41, 0.67],\n",
       "       [-1.05, 0.64],\n",
       "       [0.08, 0.16],\n",
       "       [-0.72, -0.57],\n",
       "       [0.72, 1.53],\n",
       "       [-0.84, 1.56],\n",
       "       [-0.11, -1.81],\n",
       "       [-0.18, -0.58],\n",
       "       [-1.06, -0.02],\n",
       "       [0.58, -0.62],\n",
       "       [0.55, 0.39],\n",
       "       [0.32, 0.04],\n",
       "       [-1.68, -0.44],\n",
       "       [-1.50, -0.39],\n",
       "       [-1.04, -1.41],\n",
       "       [0.17, 2.11],\n",
       "       [-0.93, -0.17],\n",
       "       [1.61, 2.12],\n",
       "       [0.80, 0.77],\n",
       "       [-0.88, -0.37],\n",
       "       [0.20, 1.47],\n",
       "       [-0.55, 0.18],\n",
       "       [0.71, 1.09],\n",
       "       [0.36, 0.32],\n",
       "       [-0.38, 0.85],\n",
       "       [-2.46, -0.71],\n",
       "       [0.29, 0.96],\n",
       "       [-0.63, 0.11],\n",
       "       [-1.04, -0.50],\n",
       "       [-0.86, 0.12],\n",
       "       [0.83, 0.06],\n",
       "       [0.65, 0.13],\n",
       "       [-0.37, -0.00],\n",
       "       [-0.26, 2.11],\n",
       "       [-0.24, -0.31],\n",
       "       [-0.44, -0.67],\n",
       "       [0.27, 0.86],\n",
       "       [0.46, 1.23],\n",
       "       [-0.03, -0.06],\n",
       "       [1.75, 1.07],\n",
       "       [0.00, 0.28],\n",
       "       [0.84, 0.82],\n",
       "       [1.91, 1.18],\n",
       "       [-0.81, -2.51],\n",
       "       [-0.48, -0.86],\n",
       "       [0.32, -0.99],\n",
       "       [-0.21, 1.09],\n",
       "       [1.01, 0.39],\n",
       "       [-0.02, -0.77],\n",
       "       [1.27, 1.79],\n",
       "       [-0.25, 0.60],\n",
       "       [1.02, -1.51],\n",
       "       [2.59, 0.43],\n",
       "       [0.97, -0.28],\n",
       "       [-1.39, -0.42],\n",
       "       [0.29, 1.59],\n",
       "       [-0.84, -1.16],\n",
       "       [-0.42, 0.11],\n",
       "       [-0.34, 0.20],\n",
       "       [-1.57, 2.09],\n",
       "       [1.50, 1.77],\n",
       "       [-0.34, -0.58],\n",
       "       [-1.02, -1.22],\n",
       "       [0.07, -0.11],\n",
       "       [0.08, -1.09],\n",
       "       [-0.40, 0.75],\n",
       "       [1.55, 1.92],\n",
       "       [-0.16, -1.50],\n",
       "       [0.59, 0.02],\n",
       "       [2.03, -0.38],\n",
       "       [-2.43, -1.96],\n",
       "       [-0.92, -0.04],\n",
       "       [-0.38, -0.83],\n",
       "       [0.40, 1.02],\n",
       "       [0.06, -0.59],\n",
       "       [0.28, 0.68],\n",
       "       [0.32, -0.75],\n",
       "       [0.84, 1.29],\n",
       "       [-1.16, -0.24],\n",
       "       [0.34, 0.44],\n",
       "       [-1.36, -1.37],\n",
       "       [-0.15, -1.02],\n",
       "       [-0.58, -0.27],\n",
       "       [0.22, -0.69],\n",
       "       [1.99, 0.57],\n",
       "       [-0.46, 0.48],\n",
       "       [-1.30, 0.27],\n",
       "       [-0.29, 1.64],\n",
       "       [-0.07, -0.74],\n",
       "       [1.51, 0.58],\n",
       "       [-1.15, -0.00],\n",
       "       [-1.70, -0.60],\n",
       "       [0.22, -0.68],\n",
       "       [-0.08, -1.14],\n",
       "       [-0.26, 0.79],\n",
       "       [1.02, -0.23],\n",
       "       [0.09, 0.61],\n",
       "       [0.21, -0.83],\n",
       "       [-1.05, -0.17],\n",
       "       [1.42, -0.08],\n",
       "       [0.14, -1.96],\n",
       "       [0.97, -0.67],\n",
       "       [-0.50, 1.96],\n",
       "       [0.66, 0.78],\n",
       "       [-0.41, -0.80],\n",
       "       [0.29, 0.25],\n",
       "       [1.23, 0.14],\n",
       "       [-1.29, -0.94],\n",
       "       [0.06, 1.52],\n",
       "       [-0.83, -1.81],\n",
       "       [-0.76, 1.16],\n",
       "       [0.48, -0.05],\n",
       "       [-0.67, -0.06],\n",
       "       [1.24, 1.98],\n",
       "       [0.10, -0.36],\n",
       "       [1.24, 0.65],\n",
       "       [0.39, -0.20],\n",
       "       [-1.45, -0.53],\n",
       "       [-0.16, 0.53],\n",
       "       [1.90, -1.12],\n",
       "       [-1.41, -0.80],\n",
       "       [-0.10, -0.55],\n",
       "       [-1.52, -0.28],\n",
       "       [-1.10, -0.94],\n",
       "       [0.83, -0.01],\n",
       "       [-1.43, -1.20],\n",
       "       [2.22, -0.51],\n",
       "       [-1.83, -0.78],\n",
       "       [0.07, 0.31],\n",
       "       [0.26, 1.55],\n",
       "       [-0.58, -1.74],\n",
       "       [-0.21, -2.09],\n",
       "       [0.96, 0.54],\n",
       "       [-0.59, 0.27],\n",
       "       [1.10, 0.28],\n",
       "       [-0.38, -0.81],\n",
       "       [0.97, 1.46],\n",
       "       [0.07, 0.46],\n",
       "       [-0.53, 0.05],\n",
       "       [1.29, -1.14],\n",
       "       [0.70, -0.55],\n",
       "       [2.21, 1.06],\n",
       "       [0.81, 0.39],\n",
       "       [-0.93, -1.68],\n",
       "       [-1.90, -0.22],\n",
       "       [-0.40, -0.77],\n",
       "       [1.29, 0.23],\n",
       "       [0.35, 0.91],\n",
       "       [1.23, 0.33],\n",
       "       [-0.21, -0.93],\n",
       "       [1.65, 0.40],\n",
       "       [1.25, 1.41],\n",
       "       [-0.38, -0.11],\n",
       "       [-0.25, 1.49],\n",
       "       [0.90, 1.56],\n",
       "       [-1.61, -1.01],\n",
       "       [1.05, 0.80],\n",
       "       [-1.62, 1.25],\n",
       "       [1.97, 0.04],\n",
       "       [-1.37, -0.38],\n",
       "       [-0.44, -0.81],\n",
       "       [1.01, 1.60],\n",
       "       [-0.71, -0.57],\n",
       "       [-0.51, 0.23],\n",
       "       [1.88, 0.87],\n",
       "       [-1.13, -1.47],\n",
       "       [1.47, -0.07],\n",
       "       [0.01, 1.13],\n",
       "       [1.75, 0.14],\n",
       "       [-0.28, -1.02],\n",
       "       [-0.57, -0.22],\n",
       "       [0.81, -1.12],\n",
       "       [-1.08, -0.79],\n",
       "       [1.38, 0.78],\n",
       "       [0.61, 0.42],\n",
       "       [0.43, 1.17],\n",
       "       [-0.17, 0.09],\n",
       "       [-2.31, 0.06],\n",
       "       [0.39, -0.24],\n",
       "       [-1.50, -0.10],\n",
       "       [-0.08, -1.17],\n",
       "       [2.28, 0.02],\n",
       "       [-1.91, 0.11],\n",
       "       [0.11, 0.28],\n",
       "       [1.22, 0.52],\n",
       "       [-2.17, -0.59],\n",
       "       [-1.15, -2.42],\n",
       "       [1.21, 1.29],\n",
       "       [-0.32, 1.27],\n",
       "       [-0.65, -0.16],\n",
       "       [-0.23, -1.18],\n",
       "       [-0.21, -1.22],\n",
       "       [0.63, -0.24],\n",
       "       [1.00, 0.48],\n",
       "       [-0.91, -1.32],\n",
       "       [-2.08, -0.38],\n",
       "       [1.48, 0.17],\n",
       "       [-0.46, 0.86],\n",
       "       [-1.54, 0.64],\n",
       "       [0.27, -1.46],\n",
       "       [2.32, -0.45],\n",
       "       [1.13, -0.63],\n",
       "       [0.12, -0.77],\n",
       "       [0.69, 1.32],\n",
       "       [0.41, 0.64],\n",
       "       [1.10, 1.34],\n",
       "       [0.51, -0.66],\n",
       "       [-2.79, -1.58],\n",
       "       [-0.05, -1.13],\n",
       "       [1.19, -0.11],\n",
       "       [1.28, 0.30],\n",
       "       [-0.41, -0.01],\n",
       "       [0.22, 0.16],\n",
       "       [0.47, 0.15],\n",
       "       [0.19, 0.46],\n",
       "       [-0.10, -0.12],\n",
       "       [0.48, -0.14],\n",
       "       [1.70, 0.11],\n",
       "       [0.81, -1.72],\n",
       "       [-0.21, -0.09],\n",
       "       [0.76, 2.22],\n",
       "       [0.03, 1.91],\n",
       "       [1.40, 1.32],\n",
       "       [0.85, 0.35],\n",
       "       [1.52, 0.90],\n",
       "       [-0.43, -0.73],\n",
       "       [0.52, -0.32],\n",
       "       [0.07, -0.12],\n",
       "       [-0.91, -0.86],\n",
       "       [-0.50, -1.42],\n",
       "       [-0.28, 0.35],\n",
       "       [0.51, 0.01],\n",
       "       [-0.97, -0.27],\n",
       "       [-0.35, -1.18],\n",
       "       [0.09, 0.90],\n",
       "       [0.74, 0.47],\n",
       "       [0.53, 0.14],\n",
       "       [-0.16, 1.19],\n",
       "       [0.86, 0.43],\n",
       "       [1.43, 1.08],\n",
       "       [-2.36, -0.94],\n",
       "       [0.43, 1.85],\n",
       "       [0.79, 1.20],\n",
       "       [-1.38, -0.78],\n",
       "       [-1.28, 0.75],\n",
       "       [-1.74, 0.33],\n",
       "       [1.29, 1.19],\n",
       "       [-0.83, 0.18],\n",
       "       [-1.07, -0.56],\n",
       "       [-0.66, 0.45],\n",
       "       [0.15, -0.63],\n",
       "       [-0.59, 0.68],\n",
       "       [0.10, -1.79],\n",
       "       [0.01, 1.47],\n",
       "       [-0.15, -1.24],\n",
       "       [0.02, 1.57],\n",
       "       [-1.56, -0.71],\n",
       "       [0.65, 1.06],\n",
       "       [0.32, 0.13],\n",
       "       [1.07, 0.86],\n",
       "       [0.13, 1.15],\n",
       "       [-0.72, -0.83],\n",
       "       [1.12, 0.58],\n",
       "       [-0.38, -1.42],\n",
       "       [-1.32, -0.23],\n",
       "       [-0.69, 1.24],\n",
       "       [2.04, 1.05],\n",
       "       [0.71, 1.48],\n",
       "       [-0.58, -2.58],\n",
       "       [-0.30, -0.48],\n",
       "       [0.96, 1.47],\n",
       "       [-1.83, -1.05],\n",
       "       [-0.73, 0.66],\n",
       "       [0.39, 2.18],\n",
       "       [1.14, 0.37],\n",
       "       [0.22, 0.38],\n",
       "       [-0.97, -1.79],\n",
       "       [0.24, 0.88],\n",
       "       [0.72, -1.00],\n",
       "       [0.79, 1.14],\n",
       "       [-0.52, 0.53],\n",
       "       [-0.31, -1.72],\n",
       "       [-0.57, -0.31],\n",
       "       [-0.98, -1.43],\n",
       "       [-0.22, -1.78],\n",
       "       [-0.81, -1.68],\n",
       "       [0.59, 2.22],\n",
       "       [0.48, 0.48],\n",
       "       [-0.79, 0.14],\n",
       "       [0.63, 0.29],\n",
       "       [-1.31, -0.88],\n",
       "       [-0.85, 1.32],\n",
       "       [-0.35, 1.28],\n",
       "       [0.33, -1.12],\n",
       "       [1.83, 0.70],\n",
       "       [0.31, 1.73],\n",
       "       [-0.55, -0.70],\n",
       "       [1.32, 0.09],\n",
       "       [0.34, -0.15],\n",
       "       [0.17, -1.60],\n",
       "       [0.51, 0.52],\n",
       "       [-1.08, -0.65],\n",
       "       [-0.30, -1.80],\n",
       "       [1.13, 1.98],\n",
       "       [1.49, 0.93],\n",
       "       [0.26, 0.10],\n",
       "       [-0.30, -1.02],\n",
       "       [1.28, 0.64],\n",
       "       [-0.84, -0.43],\n",
       "       [-0.19, 0.42],\n",
       "       [1.03, 0.72],\n",
       "       [-0.29, 0.64],\n",
       "       [-0.35, 0.03],\n",
       "       [0.30, 1.24],\n",
       "       [-2.17, -1.51],\n",
       "       [-0.83, -0.28],\n",
       "       [0.63, -0.51],\n",
       "       [0.63, 0.75],\n",
       "       [0.20, -0.20],\n",
       "       [-0.39, -0.11],\n",
       "       [-0.38, -2.05],\n",
       "       [0.03, -1.01],\n",
       "       [-2.77, -0.98],\n",
       "       [-1.27, -0.74],\n",
       "       [-0.90, 0.88],\n",
       "       [0.00, -0.51],\n",
       "       [-0.44, -1.34],\n",
       "       [-0.12, -0.91],\n",
       "       [-0.61, -0.60],\n",
       "       [0.45, -0.42],\n",
       "       [0.10, -0.39],\n",
       "       [0.26, -2.14],\n",
       "       [-0.41, -0.71],\n",
       "       [0.51, -1.54],\n",
       "       [0.46, 2.04],\n",
       "       [-1.97, 2.36],\n",
       "       [-0.83, -0.83],\n",
       "       [0.37, 1.25],\n",
       "       [0.44, 0.46],\n",
       "       [-0.60, -0.67],\n",
       "       [0.53, 1.10],\n",
       "       [-1.10, -0.97],\n",
       "       [0.47, 0.54],\n",
       "       [1.87, 1.00],\n",
       "       [1.27, -0.04],\n",
       "       [0.56, 0.53],\n",
       "       [-0.70, -0.10],\n",
       "       [0.97, 0.09],\n",
       "       [-0.27, -0.66],\n",
       "       [-0.51, 1.56],\n",
       "       [0.86, -0.93],\n",
       "       [-1.03, -0.52],\n",
       "       [0.54, 0.26],\n",
       "       [1.32, 1.00],\n",
       "       [-1.06, -0.64],\n",
       "       [0.45, 1.06],\n",
       "       [-0.86, 0.46],\n",
       "       [-1.34, -2.41],\n",
       "       [1.02, -0.26],\n",
       "       [1.10, 0.28],\n",
       "       [-1.15, -0.90],\n",
       "       [0.52, 0.48],\n",
       "       [-1.37, -0.67],\n",
       "       [0.44, -1.07],\n",
       "       [0.05, -0.05],\n",
       "       [0.95, 0.15],\n",
       "       [1.14, 0.06],\n",
       "       [-0.94, 0.37],\n",
       "       [-1.00, -1.55],\n",
       "       [0.21, -0.14],\n",
       "       [0.47, 0.57],\n",
       "       [-3.07, -0.29],\n",
       "       [-0.91, -0.96],\n",
       "       [-1.51, -0.42],\n",
       "       [-1.13, -0.59],\n",
       "       [0.26, -1.52],\n",
       "       [-0.70, -1.12],\n",
       "       [-0.06, 1.13]])"
      ]
     },
     "execution_count": 22,
     "metadata": {},
     "output_type": "execute_result"
    }
   ],
   "source": [
    "X"
   ]
  },
  {
   "cell_type": "code",
   "execution_count": 23,
   "id": "dcd19d9d-1b21-46b3-9bec-eac042945289",
   "metadata": {
    "execution": {
     "iopub.execute_input": "2024-09-12T22:44:03.462266Z",
     "iopub.status.busy": "2024-09-12T22:44:03.462102Z",
     "iopub.status.idle": "2024-09-12T22:44:03.465480Z",
     "shell.execute_reply": "2024-09-12T22:44:03.464934Z",
     "shell.execute_reply.started": "2024-09-12T22:44:03.462257Z"
    }
   },
   "outputs": [],
   "source": [
    "X_train, X_test, y_train, y_test = train_test_split(X, y, test_size=0.2, random_state=0)"
   ]
  },
  {
   "cell_type": "code",
   "execution_count": 24,
   "id": "bf6b8740-07d3-40e7-9e16-c2c023d7eadd",
   "metadata": {
    "execution": {
     "iopub.execute_input": "2024-09-12T22:44:03.466770Z",
     "iopub.status.busy": "2024-09-12T22:44:03.466558Z",
     "iopub.status.idle": "2024-09-12T22:44:03.477712Z",
     "shell.execute_reply": "2024-09-12T22:44:03.477495Z",
     "shell.execute_reply.started": "2024-09-12T22:44:03.466756Z"
    }
   },
   "outputs": [
    {
     "data": {
      "text/html": [
       "<style>#sk-container-id-1 {color: black;}#sk-container-id-1 pre{padding: 0;}#sk-container-id-1 div.sk-toggleable {background-color: white;}#sk-container-id-1 label.sk-toggleable__label {cursor: pointer;display: block;width: 100%;margin-bottom: 0;padding: 0.3em;box-sizing: border-box;text-align: center;}#sk-container-id-1 label.sk-toggleable__label-arrow:before {content: \"▸\";float: left;margin-right: 0.25em;color: #696969;}#sk-container-id-1 label.sk-toggleable__label-arrow:hover:before {color: black;}#sk-container-id-1 div.sk-estimator:hover label.sk-toggleable__label-arrow:before {color: black;}#sk-container-id-1 div.sk-toggleable__content {max-height: 0;max-width: 0;overflow: hidden;text-align: left;background-color: #f0f8ff;}#sk-container-id-1 div.sk-toggleable__content pre {margin: 0.2em;color: black;border-radius: 0.25em;background-color: #f0f8ff;}#sk-container-id-1 input.sk-toggleable__control:checked~div.sk-toggleable__content {max-height: 200px;max-width: 100%;overflow: auto;}#sk-container-id-1 input.sk-toggleable__control:checked~label.sk-toggleable__label-arrow:before {content: \"▾\";}#sk-container-id-1 div.sk-estimator input.sk-toggleable__control:checked~label.sk-toggleable__label {background-color: #d4ebff;}#sk-container-id-1 div.sk-label input.sk-toggleable__control:checked~label.sk-toggleable__label {background-color: #d4ebff;}#sk-container-id-1 input.sk-hidden--visually {border: 0;clip: rect(1px 1px 1px 1px);clip: rect(1px, 1px, 1px, 1px);height: 1px;margin: -1px;overflow: hidden;padding: 0;position: absolute;width: 1px;}#sk-container-id-1 div.sk-estimator {font-family: monospace;background-color: #f0f8ff;border: 1px dotted black;border-radius: 0.25em;box-sizing: border-box;margin-bottom: 0.5em;}#sk-container-id-1 div.sk-estimator:hover {background-color: #d4ebff;}#sk-container-id-1 div.sk-parallel-item::after {content: \"\";width: 100%;border-bottom: 1px solid gray;flex-grow: 1;}#sk-container-id-1 div.sk-label:hover label.sk-toggleable__label {background-color: #d4ebff;}#sk-container-id-1 div.sk-serial::before {content: \"\";position: absolute;border-left: 1px solid gray;box-sizing: border-box;top: 0;bottom: 0;left: 50%;z-index: 0;}#sk-container-id-1 div.sk-serial {display: flex;flex-direction: column;align-items: center;background-color: white;padding-right: 0.2em;padding-left: 0.2em;position: relative;}#sk-container-id-1 div.sk-item {position: relative;z-index: 1;}#sk-container-id-1 div.sk-parallel {display: flex;align-items: stretch;justify-content: center;background-color: white;position: relative;}#sk-container-id-1 div.sk-item::before, #sk-container-id-1 div.sk-parallel-item::before {content: \"\";position: absolute;border-left: 1px solid gray;box-sizing: border-box;top: 0;bottom: 0;left: 50%;z-index: -1;}#sk-container-id-1 div.sk-parallel-item {display: flex;flex-direction: column;z-index: 1;position: relative;background-color: white;}#sk-container-id-1 div.sk-parallel-item:first-child::after {align-self: flex-end;width: 50%;}#sk-container-id-1 div.sk-parallel-item:last-child::after {align-self: flex-start;width: 50%;}#sk-container-id-1 div.sk-parallel-item:only-child::after {width: 0;}#sk-container-id-1 div.sk-dashed-wrapped {border: 1px dashed gray;margin: 0 0.4em 0.5em 0.4em;box-sizing: border-box;padding-bottom: 0.4em;background-color: white;}#sk-container-id-1 div.sk-label label {font-family: monospace;font-weight: bold;display: inline-block;line-height: 1.2em;}#sk-container-id-1 div.sk-label-container {text-align: center;}#sk-container-id-1 div.sk-container {/* jupyter's `normalize.less` sets `[hidden] { display: none; }` but bootstrap.min.css set `[hidden] { display: none !important; }` so we also need the `!important` here to be able to override the default hidden behavior on the sphinx rendered scikit-learn.org. See: https://github.com/scikit-learn/scikit-learn/issues/21755 */display: inline-block !important;position: relative;}#sk-container-id-1 div.sk-text-repr-fallback {display: none;}</style><div id=\"sk-container-id-1\" class=\"sk-top-container\"><div class=\"sk-text-repr-fallback\"><pre>LogisticRegression(random_state=0)</pre><b>In a Jupyter environment, please rerun this cell to show the HTML representation or trust the notebook. <br />On GitHub, the HTML representation is unable to render, please try loading this page with nbviewer.org.</b></div><div class=\"sk-container\" hidden><div class=\"sk-item\"><div class=\"sk-estimator sk-toggleable\"><input class=\"sk-toggleable__control sk-hidden--visually\" id=\"sk-estimator-id-1\" type=\"checkbox\" checked><label for=\"sk-estimator-id-1\" class=\"sk-toggleable__label sk-toggleable__label-arrow\">LogisticRegression</label><div class=\"sk-toggleable__content\"><pre>LogisticRegression(random_state=0)</pre></div></div></div></div></div>"
      ],
      "text/plain": [
       "LogisticRegression(random_state=0)"
      ]
     },
     "execution_count": 24,
     "metadata": {},
     "output_type": "execute_result"
    }
   ],
   "source": [
    "classifier = LogisticRegression(random_state = 0)\n",
    "classifier.fit(X_train, y_train)"
   ]
  },
  {
   "cell_type": "markdown",
   "id": "d45ee642-6b6b-4ce1-ba87-82bc842b2b29",
   "metadata": {},
   "source": [
    "## Model Testing"
   ]
  },
  {
   "cell_type": "markdown",
   "id": "5570826c-65e1-43b5-b8db-a5fb77618571",
   "metadata": {
    "execution": {
     "iopub.execute_input": "2024-07-23T19:57:05.868692Z",
     "iopub.status.busy": "2024-07-23T19:57:05.868153Z",
     "iopub.status.idle": "2024-07-23T19:57:05.873562Z",
     "shell.execute_reply": "2024-07-23T19:57:05.872783Z",
     "shell.execute_reply.started": "2024-07-23T19:57:05.868651Z"
    }
   },
   "source": [
    "### Train"
   ]
  },
  {
   "cell_type": "code",
   "execution_count": 27,
   "id": "46d545ca-2d06-47a0-919d-3bed098260bd",
   "metadata": {
    "execution": {
     "iopub.execute_input": "2024-09-12T22:44:03.500953Z",
     "iopub.status.busy": "2024-09-12T22:44:03.500773Z",
     "iopub.status.idle": "2024-09-12T22:44:03.562306Z",
     "shell.execute_reply": "2024-09-12T22:44:03.562037Z",
     "shell.execute_reply.started": "2024-09-12T22:44:03.500942Z"
    }
   },
   "outputs": [
    {
     "data": {
      "text/plain": [
       "<Axes: >"
      ]
     },
     "execution_count": 27,
     "metadata": {},
     "output_type": "execute_result"
    },
    {
     "data": {
      "image/png": "[encoded data removed]",
      "text/plain": [
       "<Figure size 640x480 with 2 Axes>"
      ]
     },
     "metadata": {},
     "output_type": "display_data"
    }
   ],
   "source": [
    "y_predict_train = classifier.predict(X_train)\n",
    "cm = confusion_matrix(y_train, y_predict_train)\n",
    "sns.heatmap(cm, annot=True, fmt=\"d\")"
   ]
  },
  {
   "cell_type": "code",
   "execution_count": 58,
   "id": "4523b57d-cd8f-4e1a-b0e5-704817e8df40",
   "metadata": {
    "execution": {
     "iopub.execute_input": "2024-09-13T02:07:30.486068Z",
     "iopub.status.busy": "2024-09-13T02:07:30.484610Z",
     "iopub.status.idle": "2024-09-13T02:07:30.511622Z",
     "shell.execute_reply": "2024-09-13T02:07:30.510748Z",
     "shell.execute_reply.started": "2024-09-13T02:07:30.486012Z"
    }
   },
   "outputs": [
    {
     "name": "stdout",
     "output_type": "stream",
     "text": [
      "              precision    recall  f1-score   support\n",
      "\n",
      "           0       0.93      0.92      0.92       201\n",
      "           1       0.92      0.93      0.93       198\n",
      "\n",
      "    accuracy                           0.92       399\n",
      "   macro avg       0.92      0.92      0.92       399\n",
      "weighted avg       0.92      0.92      0.92       399\n",
      "\n"
     ]
    }
   ],
   "source": [
    "print(classification_report(y_train, y_predict_train))"
   ]
  },
  {
   "cell_type": "markdown",
   "id": "3c64158b-2ebe-466e-a448-aea00e17686f",
   "metadata": {
    "execution": {
     "iopub.execute_input": "2024-07-23T19:57:31.506254Z",
     "iopub.status.busy": "2024-07-23T19:57:31.505783Z",
     "iopub.status.idle": "2024-07-23T19:57:31.511240Z",
     "shell.execute_reply": "2024-07-23T19:57:31.510614Z",
     "shell.execute_reply.started": "2024-07-23T19:57:31.506220Z"
    }
   },
   "source": [
    "### Test"
   ]
  },
  {
   "cell_type": "code",
   "execution_count": 29,
   "id": "ddaa0397-81ba-4be0-b192-54cd8551e579",
   "metadata": {
    "execution": {
     "iopub.execute_input": "2024-09-12T22:44:03.570937Z",
     "iopub.status.busy": "2024-09-12T22:44:03.570778Z",
     "iopub.status.idle": "2024-09-12T22:44:03.630029Z",
     "shell.execute_reply": "2024-09-12T22:44:03.629797Z",
     "shell.execute_reply.started": "2024-09-12T22:44:03.570929Z"
    }
   },
   "outputs": [
    {
     "data": {
      "text/plain": [
       "<Axes: >"
      ]
     },
     "execution_count": 29,
     "metadata": {},
     "output_type": "execute_result"
    },
    {
     "data": {
      "image/png": "[encoded data removed]",
      "text/plain": [
       "<Figure size 640x480 with 2 Axes>"
      ]
     },
     "metadata": {},
     "output_type": "display_data"
    }
   ],
   "source": [
    "y_predict_test = classifier.predict(X_test)\n",
    "cm = confusion_matrix(y_test, y_predict_test)\n",
    "sns.heatmap(cm, annot=True, fmt=\"d\")"
   ]
  },
  {
   "cell_type": "code",
   "execution_count": 30,
   "id": "883c1b59-6bf6-490e-b66d-ddc080492a57",
   "metadata": {
    "execution": {
     "iopub.execute_input": "2024-09-12T22:44:03.630568Z",
     "iopub.status.busy": "2024-09-12T22:44:03.630494Z",
     "iopub.status.idle": "2024-09-12T22:44:03.637107Z",
     "shell.execute_reply": "2024-09-12T22:44:03.636842Z",
     "shell.execute_reply.started": "2024-09-12T22:44:03.630562Z"
    }
   },
   "outputs": [
    {
     "name": "stdout",
     "output_type": "stream",
     "text": [
      "              precision    recall  f1-score   support\n",
      "\n",
      "           0       0.83      0.90      0.86        48\n",
      "           1       0.90      0.83      0.86        52\n",
      "\n",
      "    accuracy                           0.86       100\n",
      "   macro avg       0.86      0.86      0.86       100\n",
      "weighted avg       0.86      0.86      0.86       100\n",
      "\n"
     ]
    }
   ],
   "source": [
    "print(classification_report(y_test, y_predict_test))"
   ]
  },
  {
   "cell_type": "markdown",
   "id": "e71adc57-8107-471c-a7fc-dafc52c3e95a",
   "metadata": {},
   "source": [
    "## Visualize Results "
   ]
  },
  {
   "cell_type": "code",
   "execution_count": 32,
   "id": "20c6990e-9036-474f-a1ae-7ba998e3761e",
   "metadata": {
    "execution": {
     "iopub.execute_input": "2024-09-12T22:44:03.646274Z",
     "iopub.status.busy": "2024-09-12T22:44:03.646053Z",
     "iopub.status.idle": "2024-09-12T22:44:03.820680Z",
     "shell.execute_reply": "2024-09-12T22:44:03.818809Z",
     "shell.execute_reply.started": "2024-09-12T22:44:03.646265Z"
    }
   },
   "outputs": [
    {
     "data": {
      "image/png": "[encoded data removed]",
      "text/plain": [
       "<Figure size 640x480 with 1 Axes>"
      ]
     },
     "metadata": {},
     "output_type": "display_data"
    }
   ],
   "source": [
    "ScatterLinearRegression(X_train, y_train)"
   ]
  },
  {
   "cell_type": "code",
   "execution_count": 33,
   "id": "916e125c-ed09-4048-b981-3a43d2f55c51",
   "metadata": {
    "execution": {
     "iopub.execute_input": "2024-09-12T22:44:03.821499Z",
     "iopub.status.busy": "2024-09-12T22:44:03.821352Z",
     "iopub.status.idle": "2024-09-12T22:44:03.969582Z",
     "shell.execute_reply": "2024-09-12T22:44:03.969027Z",
     "shell.execute_reply.started": "2024-09-12T22:44:03.821485Z"
    }
   },
   "outputs": [
    {
     "data": {
      "image/png": "[encoded data removed]",
      "text/plain": [
       "<Figure size 640x480 with 1 Axes>"
      ]
     },
     "metadata": {},
     "output_type": "display_data"
    }
   ],
   "source": [
    "ScatterLinearRegression(X_test, y_test)"
   ]
  }
 ],
 "metadata": {
  "kernelspec": {
   "display_name": "Python 3 (ipykernel)",
   "language": "python",
   "name": "python3"
  },
  "language_info": {
   "codemirror_mode": {
    "name": "ipython",
    "version": 3
   },
   "file_extension": ".py",
   "mimetype": "text/x-python",
   "name": "python",
   "nbconvert_exporter": "python",
   "pygments_lexer": "ipython3",
   "version": "3.11.5"
  }
 },
 "nbformat": 4,
 "nbformat_minor": 5
}
