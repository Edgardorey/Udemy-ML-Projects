{
 "cells": [
  {
   "cell_type": "markdown",
   "id": "58617f8f-dd99-45f9-8858-7dad69d819a3",
   "metadata": {},
   "source": [
    "# T shirt"
   ]
  },
  {
   "cell_type": "code",
   "execution_count": 2,
   "id": "38321e85-5fdb-4e73-8a66-0861742baa70",
   "metadata": {
    "execution": {
     "iopub.execute_input": "2024-07-25T03:05:39.076084Z",
     "iopub.status.busy": "2024-07-25T03:05:39.075943Z",
     "iopub.status.idle": "2024-07-25T03:05:39.839909Z",
     "shell.execute_reply": "2024-07-25T03:05:39.839280Z",
     "shell.execute_reply.started": "2024-07-25T03:05:39.076076Z"
    }
   },
   "outputs": [],
   "source": [
    "import pandas as pd\n",
    "import numpy as np\n",
    "import matplotlib.pyplot as plt\n",
    "import seaborn as sns\n",
    "from sklearn.preprocessing import LabelEncoder\n",
    "from sklearn.model_selection import train_test_split\n",
    "from sklearn.neighbors import KNeighborsClassifier\n",
    "from sklearn.metrics import confusion_matrix\n",
    "from matplotlib.colors import ListedColormap\n",
    "%matplotlib inline"
   ]
  },
  {
   "cell_type": "markdown",
   "id": "9a1f98da-8565-4739-af5a-4f68f2504a40",
   "metadata": {},
   "source": [
    "## Functions"
   ]
  },
  {
   "cell_type": "code",
   "execution_count": 34,
   "id": "116f727a-aa84-4377-851b-347ca5bf178c",
   "metadata": {
    "execution": {
     "iopub.execute_input": "2024-07-25T03:07:04.541681Z",
     "iopub.status.busy": "2024-07-25T03:07:04.541248Z",
     "iopub.status.idle": "2024-07-25T03:07:04.553920Z",
     "shell.execute_reply": "2024-07-25T03:07:04.553273Z",
     "shell.execute_reply.started": "2024-07-25T03:07:04.541658Z"
    }
   },
   "outputs": [],
   "source": [
    "def ScatterLinearRegression(X, Y):\n",
    "    X1, X2 = np.meshgrid(np.arange(start=X[:, 0].min() - 1, stop=X[:, 0].max() + 1, step=0.01),\n",
    "                         np.arange(start=X[:, 1].min() - 1, stop=X[:, 1].max() + 1, step=0.01))\n",
    "    plt.contourf(X1, X2, classifier.predict(np.array([X1.ravel(), X2.ravel()]).T).reshape(X1.shape),\n",
    "                 alpha=0.75, cmap=ListedColormap(('magenta', 'blue')))\n",
    "    plt.xlim(X1.min(), X1.max())\n",
    "    plt.ylim(X2.min(), X2.max())\n",
    "    for i, j in enumerate(np.unique(Y)):\n",
    "        plt.scatter(X[Y == j, 0], X[Y == j, 1],\n",
    "            color=ListedColormap(('magenta', 'blue'))(i), label=j)\n",
    "    plt.title('Dataset')\n",
    "    plt.xlabel('X1')\n",
    "    plt.ylabel('X2')\n",
    "    plt.legend()\n",
    "    plt.show()"
   ]
  },
  {
   "cell_type": "markdown",
   "id": "fb229087-8314-4de3-9347-6d3ce688c4e1",
   "metadata": {},
   "source": [
    "## EDA"
   ]
  },
  {
   "cell_type": "code",
   "execution_count": 6,
   "id": "fa80be38-116d-472e-a9d1-342f48d07bd2",
   "metadata": {
    "execution": {
     "iopub.execute_input": "2024-07-25T03:05:39.862003Z",
     "iopub.status.busy": "2024-07-25T03:05:39.861930Z",
     "iopub.status.idle": "2024-07-25T03:05:39.869304Z",
     "shell.execute_reply": "2024-07-25T03:05:39.868962Z",
     "shell.execute_reply.started": "2024-07-25T03:05:39.861996Z"
    }
   },
   "outputs": [],
   "source": [
    "Tshirt = pd.read_csv(\"TShirt.csv\")"
   ]
  },
  {
   "cell_type": "code",
   "execution_count": 7,
   "id": "ff93f4cf-9baa-4323-9baa-8a76378dea15",
   "metadata": {
    "execution": {
     "iopub.execute_input": "2024-07-25T03:05:39.871098Z",
     "iopub.status.busy": "2024-07-25T03:05:39.871032Z",
     "iopub.status.idle": "2024-07-25T03:05:39.876014Z",
     "shell.execute_reply": "2024-07-25T03:05:39.875805Z",
     "shell.execute_reply.started": "2024-07-25T03:05:39.871091Z"
    }
   },
   "outputs": [
    {
     "data": {
      "text/html": [
       "<div>\n",
       "<style scoped>\n",
       "    .dataframe tbody tr th:only-of-type {\n",
       "        vertical-align: middle;\n",
       "    }\n",
       "\n",
       "    .dataframe tbody tr th {\n",
       "        vertical-align: top;\n",
       "    }\n",
       "\n",
       "    .dataframe thead th {\n",
       "        text-align: right;\n",
       "    }\n",
       "</style>\n",
       "<table border=\"1\" class=\"dataframe\">\n",
       "  <thead>\n",
       "    <tr style=\"text-align: right;\">\n",
       "      <th></th>\n",
       "      <th>Height (in cms)</th>\n",
       "      <th>Weight (in kgs)</th>\n",
       "      <th>T Shirt Size</th>\n",
       "    </tr>\n",
       "  </thead>\n",
       "  <tbody>\n",
       "    <tr>\n",
       "      <th>0</th>\n",
       "      <td>158</td>\n",
       "      <td>58</td>\n",
       "      <td>S</td>\n",
       "    </tr>\n",
       "    <tr>\n",
       "      <th>1</th>\n",
       "      <td>158</td>\n",
       "      <td>59</td>\n",
       "      <td>S</td>\n",
       "    </tr>\n",
       "    <tr>\n",
       "      <th>2</th>\n",
       "      <td>158</td>\n",
       "      <td>63</td>\n",
       "      <td>S</td>\n",
       "    </tr>\n",
       "    <tr>\n",
       "      <th>3</th>\n",
       "      <td>160</td>\n",
       "      <td>59</td>\n",
       "      <td>S</td>\n",
       "    </tr>\n",
       "    <tr>\n",
       "      <th>4</th>\n",
       "      <td>160</td>\n",
       "      <td>60</td>\n",
       "      <td>S</td>\n",
       "    </tr>\n",
       "  </tbody>\n",
       "</table>\n",
       "</div>"
      ],
      "text/plain": [
       "   Height (in cms)  Weight (in kgs) T Shirt Size\n",
       "0              158               58            S\n",
       "1              158               59            S\n",
       "2              158               63            S\n",
       "3              160               59            S\n",
       "4              160               60            S"
      ]
     },
     "execution_count": 7,
     "metadata": {},
     "output_type": "execute_result"
    }
   ],
   "source": [
    "Tshirt.head()"
   ]
  },
  {
   "cell_type": "markdown",
   "id": "2dba6249-8c47-44c5-99bc-c68e71851c38",
   "metadata": {},
   "source": [
    "## Train and Test"
   ]
  },
  {
   "cell_type": "code",
   "execution_count": 9,
   "id": "ec29b2fe-e02b-42a3-a627-e7cd36e00375",
   "metadata": {
    "execution": {
     "iopub.execute_input": "2024-07-25T03:05:39.884380Z",
     "iopub.status.busy": "2024-07-25T03:05:39.884048Z",
     "iopub.status.idle": "2024-07-25T03:05:39.886589Z",
     "shell.execute_reply": "2024-07-25T03:05:39.886369Z",
     "shell.execute_reply.started": "2024-07-25T03:05:39.884370Z"
    }
   },
   "outputs": [],
   "source": [
    "X = Tshirt.iloc[:, 0:2].values\n",
    "y = Tshirt.iloc[:, 2].values"
   ]
  },
  {
   "cell_type": "code",
   "execution_count": 10,
   "id": "24ba42ba-69f1-4d85-89c0-2c7585a9117a",
   "metadata": {
    "execution": {
     "iopub.execute_input": "2024-07-25T03:05:39.887681Z",
     "iopub.status.busy": "2024-07-25T03:05:39.887477Z",
     "iopub.status.idle": "2024-07-25T03:05:39.889479Z",
     "shell.execute_reply": "2024-07-25T03:05:39.889149Z",
     "shell.execute_reply.started": "2024-07-25T03:05:39.887671Z"
    }
   },
   "outputs": [],
   "source": [
    "labelencoder_y = LabelEncoder()\n",
    "y = labelencoder_y.fit_transform(y)"
   ]
  },
  {
   "cell_type": "code",
   "execution_count": 11,
   "id": "cdbebcec-7868-4d5f-96fd-1999017617dc",
   "metadata": {
    "execution": {
     "iopub.execute_input": "2024-07-25T03:05:39.889930Z",
     "iopub.status.busy": "2024-07-25T03:05:39.889862Z",
     "iopub.status.idle": "2024-07-25T03:05:39.892080Z",
     "shell.execute_reply": "2024-07-25T03:05:39.891870Z",
     "shell.execute_reply.started": "2024-07-25T03:05:39.889924Z"
    }
   },
   "outputs": [],
   "source": [
    "X_train, X_test, y_train, y_test = train_test_split(X, y, test_size=0.25)"
   ]
  },
  {
   "cell_type": "markdown",
   "id": "2b152b4b-e83c-40a3-9c71-975af58b760b",
   "metadata": {},
   "source": [
    "## Model Training"
   ]
  },
  {
   "cell_type": "code",
   "execution_count": 13,
   "id": "1cacfd11-2346-4283-9b8f-2c432f7539bb",
   "metadata": {
    "execution": {
     "iopub.execute_input": "2024-07-25T03:05:39.899264Z",
     "iopub.status.busy": "2024-07-25T03:05:39.898963Z",
     "iopub.status.idle": "2024-07-25T03:05:39.903281Z",
     "shell.execute_reply": "2024-07-25T03:05:39.903068Z",
     "shell.execute_reply.started": "2024-07-25T03:05:39.899256Z"
    }
   },
   "outputs": [
    {
     "data": {
      "text/html": [
       "<style>#sk-container-id-1 {color: black;}#sk-container-id-1 pre{padding: 0;}#sk-container-id-1 div.sk-toggleable {background-color: white;}#sk-container-id-1 label.sk-toggleable__label {cursor: pointer;display: block;width: 100%;margin-bottom: 0;padding: 0.3em;box-sizing: border-box;text-align: center;}#sk-container-id-1 label.sk-toggleable__label-arrow:before {content: \"▸\";float: left;margin-right: 0.25em;color: #696969;}#sk-container-id-1 label.sk-toggleable__label-arrow:hover:before {color: black;}#sk-container-id-1 div.sk-estimator:hover label.sk-toggleable__label-arrow:before {color: black;}#sk-container-id-1 div.sk-toggleable__content {max-height: 0;max-width: 0;overflow: hidden;text-align: left;background-color: #f0f8ff;}#sk-container-id-1 div.sk-toggleable__content pre {margin: 0.2em;color: black;border-radius: 0.25em;background-color: #f0f8ff;}#sk-container-id-1 input.sk-toggleable__control:checked~div.sk-toggleable__content {max-height: 200px;max-width: 100%;overflow: auto;}#sk-container-id-1 input.sk-toggleable__control:checked~label.sk-toggleable__label-arrow:before {content: \"▾\";}#sk-container-id-1 div.sk-estimator input.sk-toggleable__control:checked~label.sk-toggleable__label {background-color: #d4ebff;}#sk-container-id-1 div.sk-label input.sk-toggleable__control:checked~label.sk-toggleable__label {background-color: #d4ebff;}#sk-container-id-1 input.sk-hidden--visually {border: 0;clip: rect(1px 1px 1px 1px);clip: rect(1px, 1px, 1px, 1px);height: 1px;margin: -1px;overflow: hidden;padding: 0;position: absolute;width: 1px;}#sk-container-id-1 div.sk-estimator {font-family: monospace;background-color: #f0f8ff;border: 1px dotted black;border-radius: 0.25em;box-sizing: border-box;margin-bottom: 0.5em;}#sk-container-id-1 div.sk-estimator:hover {background-color: #d4ebff;}#sk-container-id-1 div.sk-parallel-item::after {content: \"\";width: 100%;border-bottom: 1px solid gray;flex-grow: 1;}#sk-container-id-1 div.sk-label:hover label.sk-toggleable__label {background-color: #d4ebff;}#sk-container-id-1 div.sk-serial::before {content: \"\";position: absolute;border-left: 1px solid gray;box-sizing: border-box;top: 0;bottom: 0;left: 50%;z-index: 0;}#sk-container-id-1 div.sk-serial {display: flex;flex-direction: column;align-items: center;background-color: white;padding-right: 0.2em;padding-left: 0.2em;position: relative;}#sk-container-id-1 div.sk-item {position: relative;z-index: 1;}#sk-container-id-1 div.sk-parallel {display: flex;align-items: stretch;justify-content: center;background-color: white;position: relative;}#sk-container-id-1 div.sk-item::before, #sk-container-id-1 div.sk-parallel-item::before {content: \"\";position: absolute;border-left: 1px solid gray;box-sizing: border-box;top: 0;bottom: 0;left: 50%;z-index: -1;}#sk-container-id-1 div.sk-parallel-item {display: flex;flex-direction: column;z-index: 1;position: relative;background-color: white;}#sk-container-id-1 div.sk-parallel-item:first-child::after {align-self: flex-end;width: 50%;}#sk-container-id-1 div.sk-parallel-item:last-child::after {align-self: flex-start;width: 50%;}#sk-container-id-1 div.sk-parallel-item:only-child::after {width: 0;}#sk-container-id-1 div.sk-dashed-wrapped {border: 1px dashed gray;margin: 0 0.4em 0.5em 0.4em;box-sizing: border-box;padding-bottom: 0.4em;background-color: white;}#sk-container-id-1 div.sk-label label {font-family: monospace;font-weight: bold;display: inline-block;line-height: 1.2em;}#sk-container-id-1 div.sk-label-container {text-align: center;}#sk-container-id-1 div.sk-container {/* jupyter's `normalize.less` sets `[hidden] { display: none; }` but bootstrap.min.css set `[hidden] { display: none !important; }` so we also need the `!important` here to be able to override the default hidden behavior on the sphinx rendered scikit-learn.org. See: https://github.com/scikit-learn/scikit-learn/issues/21755 */display: inline-block !important;position: relative;}#sk-container-id-1 div.sk-text-repr-fallback {display: none;}</style><div id=\"sk-container-id-1\" class=\"sk-top-container\"><div class=\"sk-text-repr-fallback\"><pre>KNeighborsClassifier()</pre><b>In a Jupyter environment, please rerun this cell to show the HTML representation or trust the notebook. <br />On GitHub, the HTML representation is unable to render, please try loading this page with nbviewer.org.</b></div><div class=\"sk-container\" hidden><div class=\"sk-item\"><div class=\"sk-estimator sk-toggleable\"><input class=\"sk-toggleable__control sk-hidden--visually\" id=\"sk-estimator-id-1\" type=\"checkbox\" checked><label for=\"sk-estimator-id-1\" class=\"sk-toggleable__label sk-toggleable__label-arrow\">KNeighborsClassifier</label><div class=\"sk-toggleable__content\"><pre>KNeighborsClassifier()</pre></div></div></div></div></div>"
      ],
      "text/plain": [
       "KNeighborsClassifier()"
      ]
     },
     "execution_count": 13,
     "metadata": {},
     "output_type": "execute_result"
    }
   ],
   "source": [
    "classifier = KNeighborsClassifier(n_neighbors = 5, metric = 'minkowski', p = 2)\n",
    "classifier.fit(X_train, y_train)"
   ]
  },
  {
   "cell_type": "markdown",
   "id": "4ce9680e-c47d-4ad8-8d5e-46c0d43e4a1e",
   "metadata": {},
   "source": [
    "## Model Testing"
   ]
  },
  {
   "cell_type": "code",
   "execution_count": 15,
   "id": "33cb6df2-f3e5-4e93-bc44-2b3bed4784bc",
   "metadata": {
    "execution": {
     "iopub.execute_input": "2024-07-25T03:05:39.910954Z",
     "iopub.status.busy": "2024-07-25T03:05:39.910812Z",
     "iopub.status.idle": "2024-07-25T03:05:39.913555Z",
     "shell.execute_reply": "2024-07-25T03:05:39.913342Z",
     "shell.execute_reply.started": "2024-07-25T03:05:39.910945Z"
    }
   },
   "outputs": [],
   "source": [
    "y_pred = classifier.predict(X_test)"
   ]
  },
  {
   "cell_type": "code",
   "execution_count": 16,
   "id": "4f811085-2b5c-4ff9-a66e-e2dff0e83dde",
   "metadata": {
    "execution": {
     "iopub.execute_input": "2024-07-25T03:05:39.914221Z",
     "iopub.status.busy": "2024-07-25T03:05:39.914104Z",
     "iopub.status.idle": "2024-07-25T03:05:39.916811Z",
     "shell.execute_reply": "2024-07-25T03:05:39.916414Z",
     "shell.execute_reply.started": "2024-07-25T03:05:39.914214Z"
    }
   },
   "outputs": [],
   "source": [
    "cm = confusion_matrix(y_test, y_pred)"
   ]
  },
  {
   "cell_type": "code",
   "execution_count": 17,
   "id": "e8384c95-6a27-4200-b3b0-eb58828bd1c1",
   "metadata": {
    "execution": {
     "iopub.execute_input": "2024-07-25T03:05:39.917317Z",
     "iopub.status.busy": "2024-07-25T03:05:39.917223Z",
     "iopub.status.idle": "2024-07-25T03:05:39.976669Z",
     "shell.execute_reply": "2024-07-25T03:05:39.976380Z",
     "shell.execute_reply.started": "2024-07-25T03:05:39.917310Z"
    }
   },
   "outputs": [
    {
     "data": {
      "text/plain": [
       "<Axes: >"
      ]
     },
     "execution_count": 17,
     "metadata": {},
     "output_type": "execute_result"
    },
    {
     "data": {
      "image/png": "[encoded data removed]",
      "text/plain": [
       "<Figure size 640x480 with 2 Axes>"
      ]
     },
     "metadata": {},
     "output_type": "display_data"
    }
   ],
   "source": [
    "sns.heatmap(cm, annot=True, fmt=\"d\")"
   ]
  },
  {
   "cell_type": "markdown",
   "id": "48735b25-54fb-4034-8161-fcde6cd3e7e5",
   "metadata": {},
   "source": [
    "## Visualize Results"
   ]
  },
  {
   "cell_type": "code",
   "execution_count": 36,
   "id": "5aa800ba-aaa9-4b9b-b884-8b3c29c89d83",
   "metadata": {
    "execution": {
     "iopub.execute_input": "2024-07-25T03:07:09.111422Z",
     "iopub.status.busy": "2024-07-25T03:07:09.110940Z",
     "iopub.status.idle": "2024-07-25T03:07:27.043420Z",
     "shell.execute_reply": "2024-07-25T03:07:27.043096Z",
     "shell.execute_reply.started": "2024-07-25T03:07:09.111397Z"
    }
   },
   "outputs": [
    {
     "data": {
      "image/png": "[encoded data removed]",
      "text/plain": [
       "<Figure size 640x480 with 1 Axes>"
      ]
     },
     "metadata": {},
     "output_type": "display_data"
    }
   ],
   "source": [
    "ScatterLinearRegression(X_train, y_train)"
   ]
  },
  {
   "cell_type": "code",
   "execution_count": 37,
   "id": "f510988c-2ce1-46d8-9676-a4178d010f82",
   "metadata": {
    "execution": {
     "iopub.execute_input": "2024-07-25T03:07:27.044468Z",
     "iopub.status.busy": "2024-07-25T03:07:27.044374Z",
     "iopub.status.idle": "2024-07-25T03:07:37.390708Z",
     "shell.execute_reply": "2024-07-25T03:07:37.390475Z",
     "shell.execute_reply.started": "2024-07-25T03:07:27.044459Z"
    }
   },
   "outputs": [
    {
     "data": {
      "image/png": "[encoded data removed]",
      "text/plain": [
       "<Figure size 640x480 with 1 Axes>"
      ]
     },
     "metadata": {},
     "output_type": "display_data"
    }
   ],
   "source": [
    "ScatterLinearRegression(X_test, y_test)"
   ]
  }
 ],
 "metadata": {
  "kernelspec": {
   "display_name": "Python 3 (ipykernel)",
   "language": "python",
   "name": "python3"
  },
  "language_info": {
   "codemirror_mode": {
    "name": "ipython",
    "version": 3
   },
   "file_extension": ".py",
   "mimetype": "text/x-python",
   "name": "python",
   "nbconvert_exporter": "python",
   "pygments_lexer": "ipython3",
   "version": "3.11.5"
  }
 },
 "nbformat": 4,
 "nbformat_minor": 5
}
