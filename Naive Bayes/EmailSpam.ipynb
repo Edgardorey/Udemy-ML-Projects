{
 "cells": [
  {
   "cell_type": "markdown",
   "id": "3064767c-f76e-4eb7-b577-63679d6f26b4",
   "metadata": {},
   "source": [
    "# Email Spam"
   ]
  },
  {
   "cell_type": "code",
   "execution_count": 2,
   "id": "032fc1b2-0e1b-4108-99d7-e6d3b39eb492",
   "metadata": {
    "execution": {
     "iopub.execute_input": "2024-07-25T21:14:25.095811Z",
     "iopub.status.busy": "2024-07-25T21:14:25.095687Z",
     "iopub.status.idle": "2024-07-25T21:14:25.855793Z",
     "shell.execute_reply": "2024-07-25T21:14:25.855519Z",
     "shell.execute_reply.started": "2024-07-25T21:14:25.095804Z"
    }
   },
   "outputs": [],
   "source": [
    "import pandas as pd\n",
    "import numpy as np\n",
    "import matplotlib.pyplot as plt\n",
    "import seaborn as sns\n",
    "%matplotlib inline\n",
    "from sklearn.feature_extraction.text import CountVectorizer\n",
    "from sklearn.naive_bayes import MultinomialNB\n",
    "from sklearn.model_selection import train_test_split\n",
    "from sklearn.metrics import classification_report, confusion_matrix"
   ]
  },
  {
   "cell_type": "code",
   "execution_count": 3,
   "id": "f2a92f14-189a-424b-8fb5-0eec43f88ad3",
   "metadata": {
    "execution": {
     "iopub.execute_input": "2024-07-25T21:14:25.856362Z",
     "iopub.status.busy": "2024-07-25T21:14:25.856209Z",
     "iopub.status.idle": "2024-07-25T21:14:25.913686Z",
     "shell.execute_reply": "2024-07-25T21:14:25.913469Z",
     "shell.execute_reply.started": "2024-07-25T21:14:25.856354Z"
    }
   },
   "outputs": [],
   "source": [
    "spam_df = pd.read_csv(\"emails.csv\")"
   ]
  },
  {
   "cell_type": "code",
   "execution_count": 4,
   "id": "797d305a-c3d5-4748-bbde-ae67374bbdcd",
   "metadata": {
    "execution": {
     "iopub.execute_input": "2024-07-25T21:14:25.914057Z",
     "iopub.status.busy": "2024-07-25T21:14:25.914000Z",
     "iopub.status.idle": "2024-07-25T21:14:25.918498Z",
     "shell.execute_reply": "2024-07-25T21:14:25.918309Z",
     "shell.execute_reply.started": "2024-07-25T21:14:25.914051Z"
    }
   },
   "outputs": [
    {
     "data": {
      "text/html": [
       "<div>\n",
       "<style scoped>\n",
       "    .dataframe tbody tr th:only-of-type {\n",
       "        vertical-align: middle;\n",
       "    }\n",
       "\n",
       "    .dataframe tbody tr th {\n",
       "        vertical-align: top;\n",
       "    }\n",
       "\n",
       "    .dataframe thead th {\n",
       "        text-align: right;\n",
       "    }\n",
       "</style>\n",
       "<table border=\"1\" class=\"dataframe\">\n",
       "  <thead>\n",
       "    <tr style=\"text-align: right;\">\n",
       "      <th></th>\n",
       "      <th>text</th>\n",
       "      <th>spam</th>\n",
       "    </tr>\n",
       "  </thead>\n",
       "  <tbody>\n",
       "    <tr>\n",
       "      <th>0</th>\n",
       "      <td>Subject: naturally irresistible your corporate...</td>\n",
       "      <td>1</td>\n",
       "    </tr>\n",
       "    <tr>\n",
       "      <th>1</th>\n",
       "      <td>Subject: the stock trading gunslinger  fanny i...</td>\n",
       "      <td>1</td>\n",
       "    </tr>\n",
       "    <tr>\n",
       "      <th>2</th>\n",
       "      <td>Subject: unbelievable new homes made easy  im ...</td>\n",
       "      <td>1</td>\n",
       "    </tr>\n",
       "    <tr>\n",
       "      <th>3</th>\n",
       "      <td>Subject: 4 color printing special  request add...</td>\n",
       "      <td>1</td>\n",
       "    </tr>\n",
       "    <tr>\n",
       "      <th>4</th>\n",
       "      <td>Subject: do not have money , get software cds ...</td>\n",
       "      <td>1</td>\n",
       "    </tr>\n",
       "  </tbody>\n",
       "</table>\n",
       "</div>"
      ],
      "text/plain": [
       "                                                text  spam\n",
       "0  Subject: naturally irresistible your corporate...     1\n",
       "1  Subject: the stock trading gunslinger  fanny i...     1\n",
       "2  Subject: unbelievable new homes made easy  im ...     1\n",
       "3  Subject: 4 color printing special  request add...     1\n",
       "4  Subject: do not have money , get software cds ...     1"
      ]
     },
     "execution_count": 4,
     "metadata": {},
     "output_type": "execute_result"
    }
   ],
   "source": [
    "spam_df.head()"
   ]
  },
  {
   "cell_type": "code",
   "execution_count": 5,
   "id": "cec60889-d6dd-405e-94ef-4913fd46a723",
   "metadata": {
    "execution": {
     "iopub.execute_input": "2024-07-25T21:14:25.918863Z",
     "iopub.status.busy": "2024-07-25T21:14:25.918796Z",
     "iopub.status.idle": "2024-07-25T21:14:25.925748Z",
     "shell.execute_reply": "2024-07-25T21:14:25.925534Z",
     "shell.execute_reply.started": "2024-07-25T21:14:25.918856Z"
    }
   },
   "outputs": [
    {
     "name": "stdout",
     "output_type": "stream",
     "text": [
      "<class 'pandas.core.frame.DataFrame'>\n",
      "RangeIndex: 5728 entries, 0 to 5727\n",
      "Data columns (total 2 columns):\n",
      " #   Column  Non-Null Count  Dtype \n",
      "---  ------  --------------  ----- \n",
      " 0   text    5728 non-null   object\n",
      " 1   spam    5728 non-null   int64 \n",
      "dtypes: int64(1), object(1)\n",
      "memory usage: 89.6+ KB\n"
     ]
    }
   ],
   "source": [
    "spam_df.info()"
   ]
  },
  {
   "cell_type": "markdown",
   "id": "026cc798-46d3-4cf2-b74e-51175bc8ec85",
   "metadata": {},
   "source": [
    "## EDA"
   ]
  },
  {
   "cell_type": "code",
   "execution_count": 7,
   "id": "afc64b31-c8b6-4661-9ff9-39e5b00d9618",
   "metadata": {
    "execution": {
     "iopub.execute_input": "2024-07-25T21:14:25.934375Z",
     "iopub.status.busy": "2024-07-25T21:14:25.934291Z",
     "iopub.status.idle": "2024-07-25T21:14:25.936718Z",
     "shell.execute_reply": "2024-07-25T21:14:25.936387Z",
     "shell.execute_reply.started": "2024-07-25T21:14:25.934368Z"
    }
   },
   "outputs": [],
   "source": [
    "ham = spam_df[spam_df['spam']==0]\n",
    "spam = spam_df[spam_df['spam']==1]"
   ]
  },
  {
   "cell_type": "code",
   "execution_count": 8,
   "id": "dbf1bae9-1b35-414c-82c4-6fc66832c3e9",
   "metadata": {
    "execution": {
     "iopub.execute_input": "2024-07-25T21:14:25.937404Z",
     "iopub.status.busy": "2024-07-25T21:14:25.937148Z",
     "iopub.status.idle": "2024-07-25T21:14:25.979861Z",
     "shell.execute_reply": "2024-07-25T21:14:25.979636Z",
     "shell.execute_reply.started": "2024-07-25T21:14:25.937394Z"
    }
   },
   "outputs": [
    {
     "data": {
      "text/plain": [
       "<Axes: xlabel='spam', ylabel='count'>"
      ]
     },
     "execution_count": 8,
     "metadata": {},
     "output_type": "execute_result"
    },
    {
     "data": {
      "image/png": "[encoded data removed]",
      "text/plain": [
       "<Figure size 640x480 with 1 Axes>"
      ]
     },
     "metadata": {},
     "output_type": "display_data"
    }
   ],
   "source": [
    "sns.countplot(spam_df, x = 'spam')"
   ]
  },
  {
   "cell_type": "markdown",
   "id": "fbf754d1-abf3-4b98-ac91-6f2d4891222c",
   "metadata": {},
   "source": [
    "## Test and Train"
   ]
  },
  {
   "cell_type": "markdown",
   "id": "bfa9c84b-5798-4a07-8629-f4812a52f637",
   "metadata": {},
   "source": [
    "### Vectorizer"
   ]
  },
  {
   "cell_type": "code",
   "execution_count": 11,
   "id": "1e8157cf-fee2-4b50-8902-6073eabaeac1",
   "metadata": {
    "execution": {
     "iopub.execute_input": "2024-07-25T21:14:25.993858Z",
     "iopub.status.busy": "2024-07-25T21:14:25.993799Z",
     "iopub.status.idle": "2024-07-25T21:14:26.350224Z",
     "shell.execute_reply": "2024-07-25T21:14:26.349941Z",
     "shell.execute_reply.started": "2024-07-25T21:14:25.993852Z"
    }
   },
   "outputs": [],
   "source": [
    "vectorizer = CountVectorizer()\n",
    "spamham_countvectorizer = vectorizer.fit_transform(spam_df['text'])"
   ]
  },
  {
   "cell_type": "code",
   "execution_count": 12,
   "id": "9d93dc54-72d1-4f6a-bae1-5066ea09d243",
   "metadata": {
    "execution": {
     "iopub.execute_input": "2024-07-25T21:14:26.350710Z",
     "iopub.status.busy": "2024-07-25T21:14:26.350635Z",
     "iopub.status.idle": "2024-07-25T21:14:26.358596Z",
     "shell.execute_reply": "2024-07-25T21:14:26.358368Z",
     "shell.execute_reply.started": "2024-07-25T21:14:26.350702Z"
    },
    "scrolled": true
   },
   "outputs": [
    {
     "data": {
      "text/plain": [
       "array(['00', '000', '0000', ..., 'zzn', 'zzncacst', 'zzzz'], dtype=object)"
      ]
     },
     "execution_count": 12,
     "metadata": {},
     "output_type": "execute_result"
    }
   ],
   "source": [
    "vectorizer.get_feature_names_out()"
   ]
  },
  {
   "cell_type": "code",
   "execution_count": 13,
   "id": "c7d0b5d2-af84-4478-b43b-ecadf2fb0938",
   "metadata": {
    "execution": {
     "iopub.execute_input": "2024-07-25T21:14:26.359037Z",
     "iopub.status.busy": "2024-07-25T21:14:26.358945Z",
     "iopub.status.idle": "2024-07-25T21:14:26.559719Z",
     "shell.execute_reply": "2024-07-25T21:14:26.559415Z",
     "shell.execute_reply.started": "2024-07-25T21:14:26.359031Z"
    },
    "scrolled": true
   },
   "outputs": [
    {
     "data": {
      "text/plain": [
       "array([[0, 0, 0, ..., 0, 0, 0],\n",
       "       [0, 0, 0, ..., 0, 0, 0],\n",
       "       [0, 0, 0, ..., 0, 0, 0],\n",
       "       ...,\n",
       "       [4, 0, 0, ..., 0, 0, 0],\n",
       "       [0, 0, 0, ..., 0, 0, 0],\n",
       "       [0, 0, 0, ..., 0, 0, 0]])"
      ]
     },
     "execution_count": 13,
     "metadata": {},
     "output_type": "execute_result"
    }
   ],
   "source": [
    "spamham_countvectorizer.toarray()"
   ]
  },
  {
   "cell_type": "code",
   "execution_count": 14,
   "id": "294434b9-5af3-41fb-8d52-e41a2bad6ef5",
   "metadata": {
    "execution": {
     "iopub.execute_input": "2024-07-25T21:14:26.560264Z",
     "iopub.status.busy": "2024-07-25T21:14:26.560188Z",
     "iopub.status.idle": "2024-07-25T21:14:26.562384Z",
     "shell.execute_reply": "2024-07-25T21:14:26.562169Z",
     "shell.execute_reply.started": "2024-07-25T21:14:26.560257Z"
    }
   },
   "outputs": [
    {
     "data": {
      "text/plain": [
       "(5728, 37303)"
      ]
     },
     "execution_count": 14,
     "metadata": {},
     "output_type": "execute_result"
    }
   ],
   "source": [
    "spamham_countvectorizer.shape"
   ]
  },
  {
   "cell_type": "code",
   "execution_count": 15,
   "id": "8c3c12e4-ec9d-4301-a904-8979a7dee94a",
   "metadata": {
    "execution": {
     "iopub.execute_input": "2024-07-25T21:14:26.562712Z",
     "iopub.status.busy": "2024-07-25T21:14:26.562648Z",
     "iopub.status.idle": "2024-07-25T21:14:26.569269Z",
     "shell.execute_reply": "2024-07-25T21:14:26.569064Z",
     "shell.execute_reply.started": "2024-07-25T21:14:26.562706Z"
    }
   },
   "outputs": [
    {
     "data": {
      "text/html": [
       "<style>#sk-container-id-1 {color: black;}#sk-container-id-1 pre{padding: 0;}#sk-container-id-1 div.sk-toggleable {background-color: white;}#sk-container-id-1 label.sk-toggleable__label {cursor: pointer;display: block;width: 100%;margin-bottom: 0;padding: 0.3em;box-sizing: border-box;text-align: center;}#sk-container-id-1 label.sk-toggleable__label-arrow:before {content: \"▸\";float: left;margin-right: 0.25em;color: #696969;}#sk-container-id-1 label.sk-toggleable__label-arrow:hover:before {color: black;}#sk-container-id-1 div.sk-estimator:hover label.sk-toggleable__label-arrow:before {color: black;}#sk-container-id-1 div.sk-toggleable__content {max-height: 0;max-width: 0;overflow: hidden;text-align: left;background-color: #f0f8ff;}#sk-container-id-1 div.sk-toggleable__content pre {margin: 0.2em;color: black;border-radius: 0.25em;background-color: #f0f8ff;}#sk-container-id-1 input.sk-toggleable__control:checked~div.sk-toggleable__content {max-height: 200px;max-width: 100%;overflow: auto;}#sk-container-id-1 input.sk-toggleable__control:checked~label.sk-toggleable__label-arrow:before {content: \"▾\";}#sk-container-id-1 div.sk-estimator input.sk-toggleable__control:checked~label.sk-toggleable__label {background-color: #d4ebff;}#sk-container-id-1 div.sk-label input.sk-toggleable__control:checked~label.sk-toggleable__label {background-color: #d4ebff;}#sk-container-id-1 input.sk-hidden--visually {border: 0;clip: rect(1px 1px 1px 1px);clip: rect(1px, 1px, 1px, 1px);height: 1px;margin: -1px;overflow: hidden;padding: 0;position: absolute;width: 1px;}#sk-container-id-1 div.sk-estimator {font-family: monospace;background-color: #f0f8ff;border: 1px dotted black;border-radius: 0.25em;box-sizing: border-box;margin-bottom: 0.5em;}#sk-container-id-1 div.sk-estimator:hover {background-color: #d4ebff;}#sk-container-id-1 div.sk-parallel-item::after {content: \"\";width: 100%;border-bottom: 1px solid gray;flex-grow: 1;}#sk-container-id-1 div.sk-label:hover label.sk-toggleable__label {background-color: #d4ebff;}#sk-container-id-1 div.sk-serial::before {content: \"\";position: absolute;border-left: 1px solid gray;box-sizing: border-box;top: 0;bottom: 0;left: 50%;z-index: 0;}#sk-container-id-1 div.sk-serial {display: flex;flex-direction: column;align-items: center;background-color: white;padding-right: 0.2em;padding-left: 0.2em;position: relative;}#sk-container-id-1 div.sk-item {position: relative;z-index: 1;}#sk-container-id-1 div.sk-parallel {display: flex;align-items: stretch;justify-content: center;background-color: white;position: relative;}#sk-container-id-1 div.sk-item::before, #sk-container-id-1 div.sk-parallel-item::before {content: \"\";position: absolute;border-left: 1px solid gray;box-sizing: border-box;top: 0;bottom: 0;left: 50%;z-index: -1;}#sk-container-id-1 div.sk-parallel-item {display: flex;flex-direction: column;z-index: 1;position: relative;background-color: white;}#sk-container-id-1 div.sk-parallel-item:first-child::after {align-self: flex-end;width: 50%;}#sk-container-id-1 div.sk-parallel-item:last-child::after {align-self: flex-start;width: 50%;}#sk-container-id-1 div.sk-parallel-item:only-child::after {width: 0;}#sk-container-id-1 div.sk-dashed-wrapped {border: 1px dashed gray;margin: 0 0.4em 0.5em 0.4em;box-sizing: border-box;padding-bottom: 0.4em;background-color: white;}#sk-container-id-1 div.sk-label label {font-family: monospace;font-weight: bold;display: inline-block;line-height: 1.2em;}#sk-container-id-1 div.sk-label-container {text-align: center;}#sk-container-id-1 div.sk-container {/* jupyter's `normalize.less` sets `[hidden] { display: none; }` but bootstrap.min.css set `[hidden] { display: none !important; }` so we also need the `!important` here to be able to override the default hidden behavior on the sphinx rendered scikit-learn.org. See: https://github.com/scikit-learn/scikit-learn/issues/21755 */display: inline-block !important;position: relative;}#sk-container-id-1 div.sk-text-repr-fallback {display: none;}</style><div id=\"sk-container-id-1\" class=\"sk-top-container\"><div class=\"sk-text-repr-fallback\"><pre>MultinomialNB()</pre><b>In a Jupyter environment, please rerun this cell to show the HTML representation or trust the notebook. <br />On GitHub, the HTML representation is unable to render, please try loading this page with nbviewer.org.</b></div><div class=\"sk-container\" hidden><div class=\"sk-item\"><div class=\"sk-estimator sk-toggleable\"><input class=\"sk-toggleable__control sk-hidden--visually\" id=\"sk-estimator-id-1\" type=\"checkbox\" checked><label for=\"sk-estimator-id-1\" class=\"sk-toggleable__label sk-toggleable__label-arrow\">MultinomialNB</label><div class=\"sk-toggleable__content\"><pre>MultinomialNB()</pre></div></div></div></div></div>"
      ],
      "text/plain": [
       "MultinomialNB()"
      ]
     },
     "execution_count": 15,
     "metadata": {},
     "output_type": "execute_result"
    }
   ],
   "source": [
    "NB_classifier = MultinomialNB()\n",
    "label = spam_df['spam'].values\n",
    "NB_classifier.fit(spamham_countvectorizer, label)"
   ]
  },
  {
   "cell_type": "markdown",
   "id": "2a78064c-69d6-408f-b3f7-47f800b84ab8",
   "metadata": {},
   "source": [
    "## Train and Test"
   ]
  },
  {
   "cell_type": "code",
   "execution_count": 17,
   "id": "0a64b167-a6bf-492a-9ec2-1da0da62b239",
   "metadata": {
    "execution": {
     "iopub.execute_input": "2024-07-25T21:14:26.576699Z",
     "iopub.status.busy": "2024-07-25T21:14:26.576637Z",
     "iopub.status.idle": "2024-07-25T21:14:26.578143Z",
     "shell.execute_reply": "2024-07-25T21:14:26.577928Z",
     "shell.execute_reply.started": "2024-07-25T21:14:26.576693Z"
    }
   },
   "outputs": [],
   "source": [
    "X = spamham_countvectorizer\n",
    "y = label"
   ]
  },
  {
   "cell_type": "code",
   "execution_count": 18,
   "id": "5b5b6df3-07fc-45fb-b953-6426ef8f2d0e",
   "metadata": {
    "execution": {
     "iopub.execute_input": "2024-07-25T21:14:26.578627Z",
     "iopub.status.busy": "2024-07-25T21:14:26.578564Z",
     "iopub.status.idle": "2024-07-25T21:14:26.584708Z",
     "shell.execute_reply": "2024-07-25T21:14:26.584432Z",
     "shell.execute_reply.started": "2024-07-25T21:14:26.578621Z"
    }
   },
   "outputs": [],
   "source": [
    "X_train, X_test, y_train, y_test = train_test_split(X, y, test_size=0.2)"
   ]
  },
  {
   "cell_type": "code",
   "execution_count": 19,
   "id": "dd96c63f-9eb9-44fd-9e5b-4a3f7331d4bf",
   "metadata": {
    "execution": {
     "iopub.execute_input": "2024-07-25T21:14:26.585075Z",
     "iopub.status.busy": "2024-07-25T21:14:26.585009Z",
     "iopub.status.idle": "2024-07-25T21:14:26.591620Z",
     "shell.execute_reply": "2024-07-25T21:14:26.591352Z",
     "shell.execute_reply.started": "2024-07-25T21:14:26.585069Z"
    }
   },
   "outputs": [
    {
     "data": {
      "text/html": [
       "<style>#sk-container-id-2 {color: black;}#sk-container-id-2 pre{padding: 0;}#sk-container-id-2 div.sk-toggleable {background-color: white;}#sk-container-id-2 label.sk-toggleable__label {cursor: pointer;display: block;width: 100%;margin-bottom: 0;padding: 0.3em;box-sizing: border-box;text-align: center;}#sk-container-id-2 label.sk-toggleable__label-arrow:before {content: \"▸\";float: left;margin-right: 0.25em;color: #696969;}#sk-container-id-2 label.sk-toggleable__label-arrow:hover:before {color: black;}#sk-container-id-2 div.sk-estimator:hover label.sk-toggleable__label-arrow:before {color: black;}#sk-container-id-2 div.sk-toggleable__content {max-height: 0;max-width: 0;overflow: hidden;text-align: left;background-color: #f0f8ff;}#sk-container-id-2 div.sk-toggleable__content pre {margin: 0.2em;color: black;border-radius: 0.25em;background-color: #f0f8ff;}#sk-container-id-2 input.sk-toggleable__control:checked~div.sk-toggleable__content {max-height: 200px;max-width: 100%;overflow: auto;}#sk-container-id-2 input.sk-toggleable__control:checked~label.sk-toggleable__label-arrow:before {content: \"▾\";}#sk-container-id-2 div.sk-estimator input.sk-toggleable__control:checked~label.sk-toggleable__label {background-color: #d4ebff;}#sk-container-id-2 div.sk-label input.sk-toggleable__control:checked~label.sk-toggleable__label {background-color: #d4ebff;}#sk-container-id-2 input.sk-hidden--visually {border: 0;clip: rect(1px 1px 1px 1px);clip: rect(1px, 1px, 1px, 1px);height: 1px;margin: -1px;overflow: hidden;padding: 0;position: absolute;width: 1px;}#sk-container-id-2 div.sk-estimator {font-family: monospace;background-color: #f0f8ff;border: 1px dotted black;border-radius: 0.25em;box-sizing: border-box;margin-bottom: 0.5em;}#sk-container-id-2 div.sk-estimator:hover {background-color: #d4ebff;}#sk-container-id-2 div.sk-parallel-item::after {content: \"\";width: 100%;border-bottom: 1px solid gray;flex-grow: 1;}#sk-container-id-2 div.sk-label:hover label.sk-toggleable__label {background-color: #d4ebff;}#sk-container-id-2 div.sk-serial::before {content: \"\";position: absolute;border-left: 1px solid gray;box-sizing: border-box;top: 0;bottom: 0;left: 50%;z-index: 0;}#sk-container-id-2 div.sk-serial {display: flex;flex-direction: column;align-items: center;background-color: white;padding-right: 0.2em;padding-left: 0.2em;position: relative;}#sk-container-id-2 div.sk-item {position: relative;z-index: 1;}#sk-container-id-2 div.sk-parallel {display: flex;align-items: stretch;justify-content: center;background-color: white;position: relative;}#sk-container-id-2 div.sk-item::before, #sk-container-id-2 div.sk-parallel-item::before {content: \"\";position: absolute;border-left: 1px solid gray;box-sizing: border-box;top: 0;bottom: 0;left: 50%;z-index: -1;}#sk-container-id-2 div.sk-parallel-item {display: flex;flex-direction: column;z-index: 1;position: relative;background-color: white;}#sk-container-id-2 div.sk-parallel-item:first-child::after {align-self: flex-end;width: 50%;}#sk-container-id-2 div.sk-parallel-item:last-child::after {align-self: flex-start;width: 50%;}#sk-container-id-2 div.sk-parallel-item:only-child::after {width: 0;}#sk-container-id-2 div.sk-dashed-wrapped {border: 1px dashed gray;margin: 0 0.4em 0.5em 0.4em;box-sizing: border-box;padding-bottom: 0.4em;background-color: white;}#sk-container-id-2 div.sk-label label {font-family: monospace;font-weight: bold;display: inline-block;line-height: 1.2em;}#sk-container-id-2 div.sk-label-container {text-align: center;}#sk-container-id-2 div.sk-container {/* jupyter's `normalize.less` sets `[hidden] { display: none; }` but bootstrap.min.css set `[hidden] { display: none !important; }` so we also need the `!important` here to be able to override the default hidden behavior on the sphinx rendered scikit-learn.org. See: https://github.com/scikit-learn/scikit-learn/issues/21755 */display: inline-block !important;position: relative;}#sk-container-id-2 div.sk-text-repr-fallback {display: none;}</style><div id=\"sk-container-id-2\" class=\"sk-top-container\"><div class=\"sk-text-repr-fallback\"><pre>MultinomialNB()</pre><b>In a Jupyter environment, please rerun this cell to show the HTML representation or trust the notebook. <br />On GitHub, the HTML representation is unable to render, please try loading this page with nbviewer.org.</b></div><div class=\"sk-container\" hidden><div class=\"sk-item\"><div class=\"sk-estimator sk-toggleable\"><input class=\"sk-toggleable__control sk-hidden--visually\" id=\"sk-estimator-id-2\" type=\"checkbox\" checked><label for=\"sk-estimator-id-2\" class=\"sk-toggleable__label sk-toggleable__label-arrow\">MultinomialNB</label><div class=\"sk-toggleable__content\"><pre>MultinomialNB()</pre></div></div></div></div></div>"
      ],
      "text/plain": [
       "MultinomialNB()"
      ]
     },
     "execution_count": 19,
     "metadata": {},
     "output_type": "execute_result"
    }
   ],
   "source": [
    "from sklearn.naive_bayes import MultinomialNB\n",
    "\n",
    "NB_classifier = MultinomialNB()\n",
    "NB_classifier.fit(X_train, y_train)"
   ]
  },
  {
   "cell_type": "markdown",
   "id": "ac5e4e49-9a2e-4dc0-8141-02121bb81fb7",
   "metadata": {},
   "source": [
    "## Evaluate Model "
   ]
  },
  {
   "cell_type": "code",
   "execution_count": 21,
   "id": "b40b2679-1268-48ca-b824-67f67a56618f",
   "metadata": {
    "execution": {
     "iopub.execute_input": "2024-07-25T21:14:26.599518Z",
     "iopub.status.busy": "2024-07-25T21:14:26.599456Z",
     "iopub.status.idle": "2024-07-25T21:14:26.655414Z",
     "shell.execute_reply": "2024-07-25T21:14:26.655160Z",
     "shell.execute_reply.started": "2024-07-25T21:14:26.599512Z"
    }
   },
   "outputs": [
    {
     "data": {
      "text/plain": [
       "<Axes: >"
      ]
     },
     "execution_count": 21,
     "metadata": {},
     "output_type": "execute_result"
    },
    {
     "data": {
      "image/png": "[encoded data removed]",
      "text/plain": [
       "<Figure size 640x480 with 2 Axes>"
      ]
     },
     "metadata": {},
     "output_type": "display_data"
    }
   ],
   "source": [
    "y_predict_train = NB_classifier.predict(X_train)\n",
    "y_predict_train\n",
    "cm = confusion_matrix(y_train, y_predict_train)\n",
    "sns.heatmap(cm, annot=True)"
   ]
  },
  {
   "cell_type": "code",
   "execution_count": 22,
   "id": "0d4fcf45-3aa8-4a10-afed-216a50bd1e0b",
   "metadata": {
    "execution": {
     "iopub.execute_input": "2024-07-25T21:14:26.658959Z",
     "iopub.status.busy": "2024-07-25T21:14:26.658868Z",
     "iopub.status.idle": "2024-07-25T21:14:26.714939Z",
     "shell.execute_reply": "2024-07-25T21:14:26.714719Z",
     "shell.execute_reply.started": "2024-07-25T21:14:26.658952Z"
    }
   },
   "outputs": [
    {
     "data": {
      "text/plain": [
       "<Axes: >"
      ]
     },
     "execution_count": 22,
     "metadata": {},
     "output_type": "execute_result"
    },
    {
     "data": {
      "image/png": "[encoded data removed]",
      "text/plain": [
       "<Figure size 640x480 with 2 Axes>"
      ]
     },
     "metadata": {},
     "output_type": "display_data"
    }
   ],
   "source": [
    "y_predict_test = NB_classifier.predict(X_test)\n",
    "cm = confusion_matrix(y_test, y_predict_test)\n",
    "sns.heatmap(cm, annot=True)"
   ]
  },
  {
   "cell_type": "code",
   "execution_count": 23,
   "id": "e7926cea-389e-48db-bdf2-5f3df85333c0",
   "metadata": {
    "execution": {
     "iopub.execute_input": "2024-07-25T21:14:26.715404Z",
     "iopub.status.busy": "2024-07-25T21:14:26.715337Z",
     "iopub.status.idle": "2024-07-25T21:14:26.720167Z",
     "shell.execute_reply": "2024-07-25T21:14:26.719968Z",
     "shell.execute_reply.started": "2024-07-25T21:14:26.715398Z"
    }
   },
   "outputs": [
    {
     "name": "stdout",
     "output_type": "stream",
     "text": [
      "              precision    recall  f1-score   support\n",
      "\n",
      "           0       1.00      0.99      0.99       875\n",
      "           1       0.96      1.00      0.98       271\n",
      "\n",
      "    accuracy                           0.99      1146\n",
      "   macro avg       0.98      0.99      0.99      1146\n",
      "weighted avg       0.99      0.99      0.99      1146\n",
      "\n"
     ]
    }
   ],
   "source": [
    "print(classification_report(y_test, y_predict_test))"
   ]
  }
 ],
 "metadata": {
  "kernelspec": {
   "display_name": "Python 3 (ipykernel)",
   "language": "python",
   "name": "python3"
  },
  "language_info": {
   "codemirror_mode": {
    "name": "ipython",
    "version": 3
   },
   "file_extension": ".py",
   "mimetype": "text/x-python",
   "name": "python",
   "nbconvert_exporter": "python",
   "pygments_lexer": "ipython3",
   "version": "3.11.5"
  }
 },
 "nbformat": 4,
 "nbformat_minor": 5
}
